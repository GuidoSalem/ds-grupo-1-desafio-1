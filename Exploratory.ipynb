{
 "cells": [
  {
   "cell_type": "markdown",
   "metadata": {},
   "source": [
    "### Setup"
   ]
  },
  {
   "cell_type": "code",
   "execution_count": 1,
   "metadata": {},
   "outputs": [],
   "source": [
    "import numpy as np\n",
    "import pandas as pd\n",
    "import seaborn as sns\n",
    "import matplotlib.pyplot as plt"
   ]
  },
  {
   "cell_type": "code",
   "execution_count": 2,
   "metadata": {},
   "outputs": [],
   "source": [
    "# global settings for pandas.\n",
    "pd.set_option('display.max_columns', None)\n",
    "pd.set_option('display.max_rows', 200)\n",
    "pd.set_option('mode.chained_assignment', None)\n",
    "\n",
    "# global settings for seaborn.\n",
    "sns.set_theme(style=\"whitegrid\")"
   ]
  },
  {
   "cell_type": "markdown",
   "metadata": {},
   "source": [
    "### Funciones auxiliares"
   ]
  },
  {
   "cell_type": "code",
   "execution_count": 3,
   "metadata": {},
   "outputs": [],
   "source": [
    "def describe_df(cols: list, df: pd.DataFrame) -> pd.DataFrame:\n",
    "    \"\"\"\n",
    "    Dado un índice {cols} y un DataFrame {df}, devuelve otro DataFrame con datos descriptivos\n",
    "    según las medidas especificadas en el diccionario {measures}.\n",
    "    \"\"\"\n",
    "    measures = {\n",
    "        'Cardinality': df.nunique(), \n",
    "        'Null': df.shape[0] - df.count(), \n",
    "        '% Null': round((df.shape[0] - df.count()) / df.shape[0] * 100, 3),\n",
    "        'Non-Null': df.count(), \n",
    "        '% Non-Null': round(df.count() / df.shape[0] * 100, 3), \n",
    "        'Types': df.dtypes,\n",
    "        'Size (mb)': df.memory_usage() / 1000000\n",
    "    }    \n",
    "    return pd.DataFrame(index=cols, data=measures)"
   ]
  },
  {
   "cell_type": "markdown",
   "metadata": {},
   "source": [
    "### Índice\n",
    "\n",
    "[### Funciones auxiliares]"
   ]
  },
  {
   "cell_type": "markdown",
   "metadata": {},
   "source": [
    "### Carga inicial de datos"
   ]
  },
  {
   "cell_type": "code",
   "execution_count": 4,
   "metadata": {},
   "outputs": [],
   "source": [
    "o_data = pd.read_csv(filepath_or_buffer='properati.csv')"
   ]
  },
  {
   "cell_type": "markdown",
   "metadata": {},
   "source": [
    "### Descripción del juego de datos original\n",
    "\n",
    "Se utiliza la función `describe_df` que toma a una `list` de columnas y a un `DataFrame` como argumentos y devuelve un dataframe con algunas descripciones sobre los datos.\n",
    "\n",
    "Esto permite conocer la cantidad de valores unívocos por columna, el peso de los nulos y sus tipos de dato correspondientes."
   ]
  },
  {
   "cell_type": "code",
   "execution_count": 5,
   "metadata": {},
   "outputs": [
    {
     "data": {
      "text/html": [
       "<div>\n",
       "<style scoped>\n",
       "    .dataframe tbody tr th:only-of-type {\n",
       "        vertical-align: middle;\n",
       "    }\n",
       "\n",
       "    .dataframe tbody tr th {\n",
       "        vertical-align: top;\n",
       "    }\n",
       "\n",
       "    .dataframe thead th {\n",
       "        text-align: right;\n",
       "    }\n",
       "</style>\n",
       "<table border=\"1\" class=\"dataframe\">\n",
       "  <thead>\n",
       "    <tr style=\"text-align: right;\">\n",
       "      <th></th>\n",
       "      <th>Cardinality</th>\n",
       "      <th>Null</th>\n",
       "      <th>% Null</th>\n",
       "      <th>Non-Null</th>\n",
       "      <th>% Non-Null</th>\n",
       "      <th>Types</th>\n",
       "      <th>Size (mb)</th>\n",
       "    </tr>\n",
       "  </thead>\n",
       "  <tbody>\n",
       "    <tr>\n",
       "      <th>Unnamed: 0</th>\n",
       "      <td>121220</td>\n",
       "      <td>0</td>\n",
       "      <td>0.000</td>\n",
       "      <td>121220</td>\n",
       "      <td>100.000</td>\n",
       "      <td>int64</td>\n",
       "      <td>0.96976</td>\n",
       "    </tr>\n",
       "    <tr>\n",
       "      <th>operation</th>\n",
       "      <td>1</td>\n",
       "      <td>0</td>\n",
       "      <td>0.000</td>\n",
       "      <td>121220</td>\n",
       "      <td>100.000</td>\n",
       "      <td>object</td>\n",
       "      <td>0.96976</td>\n",
       "    </tr>\n",
       "    <tr>\n",
       "      <th>property_type</th>\n",
       "      <td>4</td>\n",
       "      <td>0</td>\n",
       "      <td>0.000</td>\n",
       "      <td>121220</td>\n",
       "      <td>100.000</td>\n",
       "      <td>object</td>\n",
       "      <td>0.96976</td>\n",
       "    </tr>\n",
       "    <tr>\n",
       "      <th>place_name</th>\n",
       "      <td>1060</td>\n",
       "      <td>23</td>\n",
       "      <td>0.019</td>\n",
       "      <td>121197</td>\n",
       "      <td>99.981</td>\n",
       "      <td>object</td>\n",
       "      <td>0.96976</td>\n",
       "    </tr>\n",
       "    <tr>\n",
       "      <th>place_with_parent_names</th>\n",
       "      <td>1164</td>\n",
       "      <td>0</td>\n",
       "      <td>0.000</td>\n",
       "      <td>121220</td>\n",
       "      <td>100.000</td>\n",
       "      <td>object</td>\n",
       "      <td>0.96976</td>\n",
       "    </tr>\n",
       "    <tr>\n",
       "      <th>country_name</th>\n",
       "      <td>1</td>\n",
       "      <td>0</td>\n",
       "      <td>0.000</td>\n",
       "      <td>121220</td>\n",
       "      <td>100.000</td>\n",
       "      <td>object</td>\n",
       "      <td>0.96976</td>\n",
       "    </tr>\n",
       "    <tr>\n",
       "      <th>state_name</th>\n",
       "      <td>28</td>\n",
       "      <td>0</td>\n",
       "      <td>0.000</td>\n",
       "      <td>121220</td>\n",
       "      <td>100.000</td>\n",
       "      <td>object</td>\n",
       "      <td>0.96976</td>\n",
       "    </tr>\n",
       "    <tr>\n",
       "      <th>geonames_id</th>\n",
       "      <td>646</td>\n",
       "      <td>18717</td>\n",
       "      <td>15.441</td>\n",
       "      <td>102503</td>\n",
       "      <td>84.559</td>\n",
       "      <td>float64</td>\n",
       "      <td>0.96976</td>\n",
       "    </tr>\n",
       "    <tr>\n",
       "      <th>lat-lon</th>\n",
       "      <td>47203</td>\n",
       "      <td>51550</td>\n",
       "      <td>42.526</td>\n",
       "      <td>69670</td>\n",
       "      <td>57.474</td>\n",
       "      <td>object</td>\n",
       "      <td>0.96976</td>\n",
       "    </tr>\n",
       "    <tr>\n",
       "      <th>lat</th>\n",
       "      <td>46495</td>\n",
       "      <td>51550</td>\n",
       "      <td>42.526</td>\n",
       "      <td>69670</td>\n",
       "      <td>57.474</td>\n",
       "      <td>float64</td>\n",
       "      <td>0.96976</td>\n",
       "    </tr>\n",
       "    <tr>\n",
       "      <th>lon</th>\n",
       "      <td>46522</td>\n",
       "      <td>51550</td>\n",
       "      <td>42.526</td>\n",
       "      <td>69670</td>\n",
       "      <td>57.474</td>\n",
       "      <td>float64</td>\n",
       "      <td>0.96976</td>\n",
       "    </tr>\n",
       "    <tr>\n",
       "      <th>price</th>\n",
       "      <td>9746</td>\n",
       "      <td>20410</td>\n",
       "      <td>16.837</td>\n",
       "      <td>100810</td>\n",
       "      <td>83.163</td>\n",
       "      <td>float64</td>\n",
       "      <td>0.96976</td>\n",
       "    </tr>\n",
       "    <tr>\n",
       "      <th>currency</th>\n",
       "      <td>4</td>\n",
       "      <td>20411</td>\n",
       "      <td>16.838</td>\n",
       "      <td>100809</td>\n",
       "      <td>83.162</td>\n",
       "      <td>object</td>\n",
       "      <td>0.96976</td>\n",
       "    </tr>\n",
       "    <tr>\n",
       "      <th>price_aprox_local_currency</th>\n",
       "      <td>10364</td>\n",
       "      <td>20410</td>\n",
       "      <td>16.837</td>\n",
       "      <td>100810</td>\n",
       "      <td>83.163</td>\n",
       "      <td>float64</td>\n",
       "      <td>0.96976</td>\n",
       "    </tr>\n",
       "    <tr>\n",
       "      <th>price_aprox_usd</th>\n",
       "      <td>10364</td>\n",
       "      <td>20410</td>\n",
       "      <td>16.837</td>\n",
       "      <td>100810</td>\n",
       "      <td>83.163</td>\n",
       "      <td>float64</td>\n",
       "      <td>0.96976</td>\n",
       "    </tr>\n",
       "    <tr>\n",
       "      <th>surface_total_in_m2</th>\n",
       "      <td>1687</td>\n",
       "      <td>39328</td>\n",
       "      <td>32.443</td>\n",
       "      <td>81892</td>\n",
       "      <td>67.557</td>\n",
       "      <td>float64</td>\n",
       "      <td>0.96976</td>\n",
       "    </tr>\n",
       "    <tr>\n",
       "      <th>surface_covered_in_m2</th>\n",
       "      <td>995</td>\n",
       "      <td>19907</td>\n",
       "      <td>16.422</td>\n",
       "      <td>101313</td>\n",
       "      <td>83.578</td>\n",
       "      <td>float64</td>\n",
       "      <td>0.96976</td>\n",
       "    </tr>\n",
       "    <tr>\n",
       "      <th>price_usd_per_m2</th>\n",
       "      <td>25567</td>\n",
       "      <td>52603</td>\n",
       "      <td>43.395</td>\n",
       "      <td>68617</td>\n",
       "      <td>56.605</td>\n",
       "      <td>float64</td>\n",
       "      <td>0.96976</td>\n",
       "    </tr>\n",
       "    <tr>\n",
       "      <th>price_per_m2</th>\n",
       "      <td>25185</td>\n",
       "      <td>33562</td>\n",
       "      <td>27.687</td>\n",
       "      <td>87658</td>\n",
       "      <td>72.313</td>\n",
       "      <td>float64</td>\n",
       "      <td>0.96976</td>\n",
       "    </tr>\n",
       "    <tr>\n",
       "      <th>floor</th>\n",
       "      <td>182</td>\n",
       "      <td>113321</td>\n",
       "      <td>93.484</td>\n",
       "      <td>7899</td>\n",
       "      <td>6.516</td>\n",
       "      <td>float64</td>\n",
       "      <td>0.96976</td>\n",
       "    </tr>\n",
       "    <tr>\n",
       "      <th>rooms</th>\n",
       "      <td>31</td>\n",
       "      <td>73830</td>\n",
       "      <td>60.906</td>\n",
       "      <td>47390</td>\n",
       "      <td>39.094</td>\n",
       "      <td>float64</td>\n",
       "      <td>0.96976</td>\n",
       "    </tr>\n",
       "    <tr>\n",
       "      <th>expenses</th>\n",
       "      <td>982</td>\n",
       "      <td>106958</td>\n",
       "      <td>88.235</td>\n",
       "      <td>14262</td>\n",
       "      <td>11.765</td>\n",
       "      <td>float64</td>\n",
       "      <td>0.96976</td>\n",
       "    </tr>\n",
       "    <tr>\n",
       "      <th>properati_url</th>\n",
       "      <td>121220</td>\n",
       "      <td>0</td>\n",
       "      <td>0.000</td>\n",
       "      <td>121220</td>\n",
       "      <td>100.000</td>\n",
       "      <td>object</td>\n",
       "      <td>0.96976</td>\n",
       "    </tr>\n",
       "    <tr>\n",
       "      <th>description</th>\n",
       "      <td>104055</td>\n",
       "      <td>2</td>\n",
       "      <td>0.002</td>\n",
       "      <td>121218</td>\n",
       "      <td>99.998</td>\n",
       "      <td>object</td>\n",
       "      <td>0.96976</td>\n",
       "    </tr>\n",
       "    <tr>\n",
       "      <th>title</th>\n",
       "      <td>72705</td>\n",
       "      <td>0</td>\n",
       "      <td>0.000</td>\n",
       "      <td>121220</td>\n",
       "      <td>100.000</td>\n",
       "      <td>object</td>\n",
       "      <td>0.96976</td>\n",
       "    </tr>\n",
       "    <tr>\n",
       "      <th>image_thumbnail</th>\n",
       "      <td>114389</td>\n",
       "      <td>3112</td>\n",
       "      <td>2.567</td>\n",
       "      <td>118108</td>\n",
       "      <td>97.433</td>\n",
       "      <td>object</td>\n",
       "      <td>0.96976</td>\n",
       "    </tr>\n",
       "  </tbody>\n",
       "</table>\n",
       "</div>"
      ],
      "text/plain": [
       "                            Cardinality    Null  % Null  Non-Null  % Non-Null  \\\n",
       "Unnamed: 0                       121220       0   0.000    121220     100.000   \n",
       "operation                             1       0   0.000    121220     100.000   \n",
       "property_type                         4       0   0.000    121220     100.000   \n",
       "place_name                         1060      23   0.019    121197      99.981   \n",
       "place_with_parent_names            1164       0   0.000    121220     100.000   \n",
       "country_name                          1       0   0.000    121220     100.000   \n",
       "state_name                           28       0   0.000    121220     100.000   \n",
       "geonames_id                         646   18717  15.441    102503      84.559   \n",
       "lat-lon                           47203   51550  42.526     69670      57.474   \n",
       "lat                               46495   51550  42.526     69670      57.474   \n",
       "lon                               46522   51550  42.526     69670      57.474   \n",
       "price                              9746   20410  16.837    100810      83.163   \n",
       "currency                              4   20411  16.838    100809      83.162   \n",
       "price_aprox_local_currency        10364   20410  16.837    100810      83.163   \n",
       "price_aprox_usd                   10364   20410  16.837    100810      83.163   \n",
       "surface_total_in_m2                1687   39328  32.443     81892      67.557   \n",
       "surface_covered_in_m2               995   19907  16.422    101313      83.578   \n",
       "price_usd_per_m2                  25567   52603  43.395     68617      56.605   \n",
       "price_per_m2                      25185   33562  27.687     87658      72.313   \n",
       "floor                               182  113321  93.484      7899       6.516   \n",
       "rooms                                31   73830  60.906     47390      39.094   \n",
       "expenses                            982  106958  88.235     14262      11.765   \n",
       "properati_url                    121220       0   0.000    121220     100.000   \n",
       "description                      104055       2   0.002    121218      99.998   \n",
       "title                             72705       0   0.000    121220     100.000   \n",
       "image_thumbnail                  114389    3112   2.567    118108      97.433   \n",
       "\n",
       "                              Types  Size (mb)  \n",
       "Unnamed: 0                    int64    0.96976  \n",
       "operation                    object    0.96976  \n",
       "property_type                object    0.96976  \n",
       "place_name                   object    0.96976  \n",
       "place_with_parent_names      object    0.96976  \n",
       "country_name                 object    0.96976  \n",
       "state_name                   object    0.96976  \n",
       "geonames_id                 float64    0.96976  \n",
       "lat-lon                      object    0.96976  \n",
       "lat                         float64    0.96976  \n",
       "lon                         float64    0.96976  \n",
       "price                       float64    0.96976  \n",
       "currency                     object    0.96976  \n",
       "price_aprox_local_currency  float64    0.96976  \n",
       "price_aprox_usd             float64    0.96976  \n",
       "surface_total_in_m2         float64    0.96976  \n",
       "surface_covered_in_m2       float64    0.96976  \n",
       "price_usd_per_m2            float64    0.96976  \n",
       "price_per_m2                float64    0.96976  \n",
       "floor                       float64    0.96976  \n",
       "rooms                       float64    0.96976  \n",
       "expenses                    float64    0.96976  \n",
       "properati_url                object    0.96976  \n",
       "description                  object    0.96976  \n",
       "title                        object    0.96976  \n",
       "image_thumbnail              object    0.96976  "
      ]
     },
     "execution_count": 5,
     "metadata": {},
     "output_type": "execute_result"
    }
   ],
   "source": [
    "describe_df(cols=o_data.columns, df=o_data)"
   ]
  },
  {
   "cell_type": "markdown",
   "metadata": {},
   "source": [
    "### Análisis de duplicados\n",
    "\n",
    "El conjunto de datos, publicaciones de propiedades, corresponde al resultado de la ejecución de un web scrape o de un extracto de la base de datos de Properati. \n",
    "\n",
    "Siguiendo esta línea, el campo `properati_url` identifica a cada publicación y la presencia de valores duplicados en este campo, sería el indicador más claro de duplicidad.\n",
    "\n",
    "Utilizando el método `duplicated` sobre el `DataFrame` e indicando como `subset` a la columna `properati_url` se puede evaluar lo anterior. "
   ]
  },
  {
   "cell_type": "code",
   "execution_count": 6,
   "metadata": {},
   "outputs": [
    {
     "data": {
      "text/plain": [
       "0"
      ]
     },
     "execution_count": 6,
     "metadata": {},
     "output_type": "execute_result"
    }
   ],
   "source": [
    "o_data.duplicated(subset=['properati_url']).sum()"
   ]
  },
  {
   "cell_type": "code",
   "execution_count": 7,
   "metadata": {},
   "outputs": [
    {
     "data": {
      "text/plain": [
       "Cardinality     121220\n",
       "Null                 0\n",
       "% Null               0\n",
       "Non-Null        121220\n",
       "% Non-Null         100\n",
       "Types           object\n",
       "Size (mb)      0.96976\n",
       "Name: properati_url, dtype: object"
      ]
     },
     "execution_count": 7,
     "metadata": {},
     "output_type": "execute_result"
    }
   ],
   "source": [
    "describe_df(o_data.columns, o_data).loc['properati_url']"
   ]
  },
  {
   "cell_type": "markdown",
   "metadata": {},
   "source": [
    "No existen publicaciones duplicadas utilizando como identificador al vínculo de la publicación `properati_url` en la página de Properati."
   ]
  },
  {
   "cell_type": "markdown",
   "metadata": {},
   "source": [
    "### Análisis de dimensionalidad\n",
    "\n",
    "Se evalúa removerer columnas que, a priori, no agregan valor para el análisis:\n",
    "\n",
    "- **'Unnamed: 0'**: parece corresponder a un índice numérico.\n",
    "- **'operation'**: se repite el mismo valor `sell` en todas las filas.\n",
    "- **'place_with_parent_names'**: es una cadena de texto que concatena 'country_name', 'state_name' y 'place_name'.\n",
    "- **'country_name'**: se repite el mismo valor `Argentina` en todas las filas.\n",
    "- **'geonames_id'**: se debe buscar más información sobre este campo.\n",
    "- **'lat-lon'**: se debe buscar más información sobre este campo.\n",
    "- **'properati_url'**: vínculo a la publicación desde la que se obtuvieron y/o corresponden los datos.\n",
    "- **'description'**: texto con datos adicionales sobre la publicación.\n",
    "- **'title'**: título de la publicación.\n",
    "- **'image_thumbnail'**: vínculo a la imagen miniatura de la publicación.\n",
    "\n",
    "No obstante, para llegar a las conclusiones anteriores, las preguntas a responder fueron las siguientes:\n",
    "\n",
    "- ¿Es el campo 'Unnamed: 0' simplemente una columna con un valor secuencial?\n",
    "- ¿Es el campo 'operation' es relevante?\n",
    "- ¿Es el campo 'place_with_parent_names' es relevante?\n",
    "- ¿Es el campo 'country_name' es relevante?\n",
    "- ¿Se pueden reducir los campos lat-lon, lat, lon y utilizar solo lat-lon?\n",
    "- ¿Es el campo 'geonames_id' es relevante?\n",
    "- ¿Existen datos adicionales dentro del título o de la descripción que sirvan para completar columnas faltantes?"
   ]
  },
  {
   "cell_type": "markdown",
   "metadata": {},
   "source": [
    "#### Análisis de la variable: Unnamed: 0\n",
    "\n",
    "##### ¿Es el campo 'Unnamed: 0' simplemente una columna con un valor secuencial?"
   ]
  },
  {
   "cell_type": "code",
   "execution_count": 8,
   "metadata": {},
   "outputs": [
    {
     "data": {
      "text/plain": [
       "Cardinality     121220\n",
       "Null                 0\n",
       "% Null               0\n",
       "Non-Null        121220\n",
       "% Non-Null         100\n",
       "Types            int64\n",
       "Size (mb)      0.96976\n",
       "Name: Unnamed: 0, dtype: object"
      ]
     },
     "execution_count": 8,
     "metadata": {},
     "output_type": "execute_result"
    }
   ],
   "source": [
    "describe_df(o_data.columns, o_data).loc['Unnamed: 0']"
   ]
  },
  {
   "cell_type": "code",
   "execution_count": 9,
   "metadata": {},
   "outputs": [
    {
     "data": {
      "text/plain": [
       "array([     0,      1,      2, ..., 121217, 121218, 121219], dtype=int64)"
      ]
     },
     "execution_count": 9,
     "metadata": {},
     "output_type": "execute_result"
    }
   ],
   "source": [
    "o_data['Unnamed: 0'].unique()"
   ]
  },
  {
   "cell_type": "markdown",
   "metadata": {},
   "source": [
    "Si `Unnamed: 0` es un campo secuencial, sus elementos deberían ser iguales al `array` de `numpy` resultante de ejecutar el constructor `np.arange(0, total de filas)`.\n",
    "El resultado de esto es un `array: Bool`."
   ]
  },
  {
   "cell_type": "code",
   "execution_count": 10,
   "metadata": {},
   "outputs": [
    {
     "data": {
      "text/plain": [
       "array([ True,  True,  True, ...,  True,  True,  True])"
      ]
     },
     "execution_count": 10,
     "metadata": {},
     "output_type": "execute_result"
    }
   ],
   "source": [
    "o_data['Unnamed: 0'].values == np.arange(0, o_data.shape[0])"
   ]
  },
  {
   "cell_type": "markdown",
   "metadata": {},
   "source": [
    "La suma de este array debe ser igual a la cantidad de filas en el `DataFrame` original, de esa manera, se puede concluir que el campo es un valor secuencial."
   ]
  },
  {
   "cell_type": "code",
   "execution_count": 11,
   "metadata": {},
   "outputs": [
    {
     "data": {
      "text/plain": [
       "True"
      ]
     },
     "execution_count": 11,
     "metadata": {},
     "output_type": "execute_result"
    }
   ],
   "source": [
    "sum(o_data['Unnamed: 0'].values == np.arange(0, o_data.shape[0])) == o_data.shape[0]"
   ]
  },
  {
   "cell_type": "markdown",
   "metadata": {},
   "source": [
    "#### Análisis de la variable: operation\n",
    "\n",
    "##### ¿El campo 'operation' es relevante?"
   ]
  },
  {
   "cell_type": "code",
   "execution_count": 12,
   "metadata": {},
   "outputs": [
    {
     "data": {
      "text/plain": [
       "Cardinality          1\n",
       "Null                 0\n",
       "% Null               0\n",
       "Non-Null        121220\n",
       "% Non-Null         100\n",
       "Types           object\n",
       "Size (mb)      0.96976\n",
       "Name: operation, dtype: object"
      ]
     },
     "execution_count": 12,
     "metadata": {},
     "output_type": "execute_result"
    }
   ],
   "source": [
    "describe_df(o_data.columns, o_data).loc['operation']"
   ]
  },
  {
   "cell_type": "code",
   "execution_count": 13,
   "metadata": {},
   "outputs": [
    {
     "data": {
      "text/plain": [
       "sell    121220\n",
       "Name: operation, dtype: int64"
      ]
     },
     "execution_count": 13,
     "metadata": {},
     "output_type": "execute_result"
    }
   ],
   "source": [
    "o_data['operation'].value_counts()"
   ]
  },
  {
   "cell_type": "markdown",
   "metadata": {},
   "source": [
    "El campo **operation** solamente repite el valor `sell` para cada observación."
   ]
  },
  {
   "cell_type": "markdown",
   "metadata": {},
   "source": [
    "#### Análisis de la variable: place_with_parent_names\n",
    "\n",
    "##### ¿El campo 'place_with_parent_names' es relevante?"
   ]
  },
  {
   "cell_type": "code",
   "execution_count": 14,
   "metadata": {},
   "outputs": [
    {
     "data": {
      "text/html": [
       "<div>\n",
       "<style scoped>\n",
       "    .dataframe tbody tr th:only-of-type {\n",
       "        vertical-align: middle;\n",
       "    }\n",
       "\n",
       "    .dataframe tbody tr th {\n",
       "        vertical-align: top;\n",
       "    }\n",
       "\n",
       "    .dataframe thead th {\n",
       "        text-align: right;\n",
       "    }\n",
       "</style>\n",
       "<table border=\"1\" class=\"dataframe\">\n",
       "  <thead>\n",
       "    <tr style=\"text-align: right;\">\n",
       "      <th></th>\n",
       "      <th>Cardinality</th>\n",
       "      <th>Null</th>\n",
       "      <th>% Null</th>\n",
       "      <th>Non-Null</th>\n",
       "      <th>% Non-Null</th>\n",
       "      <th>Types</th>\n",
       "      <th>Size (mb)</th>\n",
       "    </tr>\n",
       "  </thead>\n",
       "  <tbody>\n",
       "    <tr>\n",
       "      <th>place_with_parent_names</th>\n",
       "      <td>1164</td>\n",
       "      <td>0</td>\n",
       "      <td>0.000</td>\n",
       "      <td>121220</td>\n",
       "      <td>100.000</td>\n",
       "      <td>object</td>\n",
       "      <td>0.96976</td>\n",
       "    </tr>\n",
       "    <tr>\n",
       "      <th>country_name</th>\n",
       "      <td>1</td>\n",
       "      <td>0</td>\n",
       "      <td>0.000</td>\n",
       "      <td>121220</td>\n",
       "      <td>100.000</td>\n",
       "      <td>object</td>\n",
       "      <td>0.96976</td>\n",
       "    </tr>\n",
       "    <tr>\n",
       "      <th>state_name</th>\n",
       "      <td>28</td>\n",
       "      <td>0</td>\n",
       "      <td>0.000</td>\n",
       "      <td>121220</td>\n",
       "      <td>100.000</td>\n",
       "      <td>object</td>\n",
       "      <td>0.96976</td>\n",
       "    </tr>\n",
       "    <tr>\n",
       "      <th>place_name</th>\n",
       "      <td>1060</td>\n",
       "      <td>23</td>\n",
       "      <td>0.019</td>\n",
       "      <td>121197</td>\n",
       "      <td>99.981</td>\n",
       "      <td>object</td>\n",
       "      <td>0.96976</td>\n",
       "    </tr>\n",
       "  </tbody>\n",
       "</table>\n",
       "</div>"
      ],
      "text/plain": [
       "                         Cardinality  Null  % Null  Non-Null  % Non-Null  \\\n",
       "place_with_parent_names         1164     0   0.000    121220     100.000   \n",
       "country_name                       1     0   0.000    121220     100.000   \n",
       "state_name                        28     0   0.000    121220     100.000   \n",
       "place_name                      1060    23   0.019    121197      99.981   \n",
       "\n",
       "                          Types  Size (mb)  \n",
       "place_with_parent_names  object    0.96976  \n",
       "country_name             object    0.96976  \n",
       "state_name               object    0.96976  \n",
       "place_name               object    0.96976  "
      ]
     },
     "execution_count": 14,
     "metadata": {},
     "output_type": "execute_result"
    }
   ],
   "source": [
    "describe_df(o_data.columns, o_data).loc[['place_with_parent_names', 'country_name', 'state_name', 'place_name']]"
   ]
  },
  {
   "cell_type": "markdown",
   "metadata": {},
   "source": [
    "Se puede ver, a priori, que estos campos están completos en casi todos los registros. La única excepción es **place_name** que en solo 23 filas no hay datos.\n",
    "\n",
    "Vale la pena analizar la hipótesis de si al concatenar **country_name**, **state_name** y **place_name** se puede llegar al mismo valor del campo **place_with_parent_names**.\n",
    "\n",
    "Para esto, se visualizan los primeros valores de las columnas relevantes:"
   ]
  },
  {
   "cell_type": "code",
   "execution_count": 15,
   "metadata": {},
   "outputs": [
    {
     "data": {
      "text/html": [
       "<div>\n",
       "<style scoped>\n",
       "    .dataframe tbody tr th:only-of-type {\n",
       "        vertical-align: middle;\n",
       "    }\n",
       "\n",
       "    .dataframe tbody tr th {\n",
       "        vertical-align: top;\n",
       "    }\n",
       "\n",
       "    .dataframe thead th {\n",
       "        text-align: right;\n",
       "    }\n",
       "</style>\n",
       "<table border=\"1\" class=\"dataframe\">\n",
       "  <thead>\n",
       "    <tr style=\"text-align: right;\">\n",
       "      <th></th>\n",
       "      <th>place_with_parent_names</th>\n",
       "      <th>country_name</th>\n",
       "      <th>state_name</th>\n",
       "      <th>place_name</th>\n",
       "    </tr>\n",
       "  </thead>\n",
       "  <tbody>\n",
       "    <tr>\n",
       "      <th>0</th>\n",
       "      <td>|Argentina|Capital Federal|Mataderos|</td>\n",
       "      <td>Argentina</td>\n",
       "      <td>Capital Federal</td>\n",
       "      <td>Mataderos</td>\n",
       "    </tr>\n",
       "    <tr>\n",
       "      <th>1</th>\n",
       "      <td>|Argentina|Bs.As. G.B.A. Zona Sur|La Plata|</td>\n",
       "      <td>Argentina</td>\n",
       "      <td>Bs.As. G.B.A. Zona Sur</td>\n",
       "      <td>La Plata</td>\n",
       "    </tr>\n",
       "    <tr>\n",
       "      <th>2</th>\n",
       "      <td>|Argentina|Capital Federal|Mataderos|</td>\n",
       "      <td>Argentina</td>\n",
       "      <td>Capital Federal</td>\n",
       "      <td>Mataderos</td>\n",
       "    </tr>\n",
       "    <tr>\n",
       "      <th>3</th>\n",
       "      <td>|Argentina|Capital Federal|Liniers|</td>\n",
       "      <td>Argentina</td>\n",
       "      <td>Capital Federal</td>\n",
       "      <td>Liniers</td>\n",
       "    </tr>\n",
       "    <tr>\n",
       "      <th>4</th>\n",
       "      <td>|Argentina|Buenos Aires Costa Atlántica|Mar de...</td>\n",
       "      <td>Argentina</td>\n",
       "      <td>Buenos Aires Costa Atlántica</td>\n",
       "      <td>Centro</td>\n",
       "    </tr>\n",
       "  </tbody>\n",
       "</table>\n",
       "</div>"
      ],
      "text/plain": [
       "                             place_with_parent_names country_name  \\\n",
       "0              |Argentina|Capital Federal|Mataderos|    Argentina   \n",
       "1        |Argentina|Bs.As. G.B.A. Zona Sur|La Plata|    Argentina   \n",
       "2              |Argentina|Capital Federal|Mataderos|    Argentina   \n",
       "3                |Argentina|Capital Federal|Liniers|    Argentina   \n",
       "4  |Argentina|Buenos Aires Costa Atlántica|Mar de...    Argentina   \n",
       "\n",
       "                     state_name place_name  \n",
       "0               Capital Federal  Mataderos  \n",
       "1        Bs.As. G.B.A. Zona Sur   La Plata  \n",
       "2               Capital Federal  Mataderos  \n",
       "3               Capital Federal    Liniers  \n",
       "4  Buenos Aires Costa Atlántica     Centro  "
      ]
     },
     "execution_count": 15,
     "metadata": {},
     "output_type": "execute_result"
    }
   ],
   "source": [
    "parent_names_subset = o_data[['place_with_parent_names', 'country_name', 'state_name', 'place_name']]\n",
    "parent_names_subset.head(5)"
   ]
  },
  {
   "cell_type": "markdown",
   "metadata": {},
   "source": [
    "Dado que el separador es el caracter '|', se concatenan los valores de **country_name**, **state_name** y **place_name** y luego se verifica que este valor sea igual al de la columna **place_with_parent_names**. Por último, se filtran las filas donde la expresión calculada y la columna no coincidan."
   ]
  },
  {
   "cell_type": "code",
   "execution_count": 16,
   "metadata": {},
   "outputs": [
    {
     "data": {
      "text/html": [
       "<div>\n",
       "<style scoped>\n",
       "    .dataframe tbody tr th:only-of-type {\n",
       "        vertical-align: middle;\n",
       "    }\n",
       "\n",
       "    .dataframe tbody tr th {\n",
       "        vertical-align: top;\n",
       "    }\n",
       "\n",
       "    .dataframe thead th {\n",
       "        text-align: right;\n",
       "    }\n",
       "</style>\n",
       "<table border=\"1\" class=\"dataframe\">\n",
       "  <thead>\n",
       "    <tr style=\"text-align: right;\">\n",
       "      <th></th>\n",
       "      <th>place_with_parent_names</th>\n",
       "      <th>country_name</th>\n",
       "      <th>state_name</th>\n",
       "      <th>place_name</th>\n",
       "      <th>expression</th>\n",
       "    </tr>\n",
       "  </thead>\n",
       "  <tbody>\n",
       "    <tr>\n",
       "      <th>4</th>\n",
       "      <td>|Argentina|Buenos Aires Costa Atlántica|Mar de...</td>\n",
       "      <td>Argentina</td>\n",
       "      <td>Buenos Aires Costa Atlántica</td>\n",
       "      <td>Centro</td>\n",
       "      <td>|Argentina|Buenos Aires Costa Atlántica|Centro|</td>\n",
       "    </tr>\n",
       "    <tr>\n",
       "      <th>6</th>\n",
       "      <td>|Argentina|Bs.As. G.B.A. Zona Norte|Vicente Ló...</td>\n",
       "      <td>Argentina</td>\n",
       "      <td>Bs.As. G.B.A. Zona Norte</td>\n",
       "      <td>Munro</td>\n",
       "      <td>|Argentina|Bs.As. G.B.A. Zona Norte|Munro|</td>\n",
       "    </tr>\n",
       "    <tr>\n",
       "      <th>12</th>\n",
       "      <td>|Argentina|Bs.As. G.B.A. Zona Norte|San Isidro...</td>\n",
       "      <td>Argentina</td>\n",
       "      <td>Bs.As. G.B.A. Zona Norte</td>\n",
       "      <td>Martínez</td>\n",
       "      <td>|Argentina|Bs.As. G.B.A. Zona Norte|Martínez|</td>\n",
       "    </tr>\n",
       "    <tr>\n",
       "      <th>13</th>\n",
       "      <td>|Argentina|Capital Federal|Palermo|Palermo Soho|</td>\n",
       "      <td>Argentina</td>\n",
       "      <td>Capital Federal</td>\n",
       "      <td>Palermo Soho</td>\n",
       "      <td>|Argentina|Capital Federal|Palermo Soho|</td>\n",
       "    </tr>\n",
       "    <tr>\n",
       "      <th>14</th>\n",
       "      <td>|Argentina|Capital Federal|Palermo|Palermo Soho|</td>\n",
       "      <td>Argentina</td>\n",
       "      <td>Capital Federal</td>\n",
       "      <td>Palermo Soho</td>\n",
       "      <td>|Argentina|Capital Federal|Palermo Soho|</td>\n",
       "    </tr>\n",
       "  </tbody>\n",
       "</table>\n",
       "</div>"
      ],
      "text/plain": [
       "                              place_with_parent_names country_name  \\\n",
       "4   |Argentina|Buenos Aires Costa Atlántica|Mar de...    Argentina   \n",
       "6   |Argentina|Bs.As. G.B.A. Zona Norte|Vicente Ló...    Argentina   \n",
       "12  |Argentina|Bs.As. G.B.A. Zona Norte|San Isidro...    Argentina   \n",
       "13   |Argentina|Capital Federal|Palermo|Palermo Soho|    Argentina   \n",
       "14   |Argentina|Capital Federal|Palermo|Palermo Soho|    Argentina   \n",
       "\n",
       "                      state_name    place_name  \\\n",
       "4   Buenos Aires Costa Atlántica        Centro   \n",
       "6       Bs.As. G.B.A. Zona Norte         Munro   \n",
       "12      Bs.As. G.B.A. Zona Norte      Martínez   \n",
       "13               Capital Federal  Palermo Soho   \n",
       "14               Capital Federal  Palermo Soho   \n",
       "\n",
       "                                         expression  \n",
       "4   |Argentina|Buenos Aires Costa Atlántica|Centro|  \n",
       "6        |Argentina|Bs.As. G.B.A. Zona Norte|Munro|  \n",
       "12    |Argentina|Bs.As. G.B.A. Zona Norte|Martínez|  \n",
       "13         |Argentina|Capital Federal|Palermo Soho|  \n",
       "14         |Argentina|Capital Federal|Palermo Soho|  "
      ]
     },
     "execution_count": 16,
     "metadata": {},
     "output_type": "execute_result"
    }
   ],
   "source": [
    "# expresión.\n",
    "parent_names_subset['expression'] = '|' + parent_names_subset.iloc[:,1] + '|' + parent_names_subset.iloc[:,2] + '|' + parent_names_subset.iloc[:,3] + '|'\n",
    "# expresión != place_with_parent_names\n",
    "parent_names_subset.loc[(parent_names_subset['expression'] != parent_names_subset['place_with_parent_names'])].head()"
   ]
  },
  {
   "cell_type": "code",
   "execution_count": 17,
   "metadata": {},
   "outputs": [
    {
     "data": {
      "text/plain": [
       "(45220, 5)"
      ]
     },
     "execution_count": 17,
     "metadata": {},
     "output_type": "execute_result"
    }
   ],
   "source": [
    "parent_names_subset.loc[(parent_names_subset['expression'] != parent_names_subset['place_with_parent_names'])].shape"
   ]
  },
  {
   "cell_type": "markdown",
   "metadata": {},
   "source": [
    "Las filas donde la expresión difiere de la columna son 45.220 y vemos que, en algunos casos, hay más atributos de la ubicación dentro del campo **place_with_parent_names** y en otros simplemente es distinto. \n",
    "\n",
    "Este contexto adicional podría ser útil para agregar más precisión de manera categórica a la ubicación, aunque también podría evaluarse si permite completar los 23 valores nulos del campo **place_name**."
   ]
  },
  {
   "cell_type": "code",
   "execution_count": 18,
   "metadata": {},
   "outputs": [
    {
     "data": {
      "text/html": [
       "<div>\n",
       "<style scoped>\n",
       "    .dataframe tbody tr th:only-of-type {\n",
       "        vertical-align: middle;\n",
       "    }\n",
       "\n",
       "    .dataframe tbody tr th {\n",
       "        vertical-align: top;\n",
       "    }\n",
       "\n",
       "    .dataframe thead th {\n",
       "        text-align: right;\n",
       "    }\n",
       "</style>\n",
       "<table border=\"1\" class=\"dataframe\">\n",
       "  <thead>\n",
       "    <tr style=\"text-align: right;\">\n",
       "      <th></th>\n",
       "      <th>place_name</th>\n",
       "      <th>place_with_parent_names</th>\n",
       "    </tr>\n",
       "  </thead>\n",
       "  <tbody>\n",
       "    <tr>\n",
       "      <th>6489</th>\n",
       "      <td>NaN</td>\n",
       "      <td>|Argentina|Bs.As. G.B.A. Zona Norte|Tigre||</td>\n",
       "    </tr>\n",
       "    <tr>\n",
       "      <th>10201</th>\n",
       "      <td>NaN</td>\n",
       "      <td>|Argentina|Bs.As. G.B.A. Zona Norte|Tigre||</td>\n",
       "    </tr>\n",
       "    <tr>\n",
       "      <th>11451</th>\n",
       "      <td>NaN</td>\n",
       "      <td>|Argentina|Bs.As. G.B.A. Zona Norte|Tigre||</td>\n",
       "    </tr>\n",
       "    <tr>\n",
       "      <th>14839</th>\n",
       "      <td>NaN</td>\n",
       "      <td>|Argentina|Bs.As. G.B.A. Zona Norte|Tigre||</td>\n",
       "    </tr>\n",
       "    <tr>\n",
       "      <th>18622</th>\n",
       "      <td>NaN</td>\n",
       "      <td>|Argentina|Bs.As. G.B.A. Zona Norte|Tigre||</td>\n",
       "    </tr>\n",
       "    <tr>\n",
       "      <th>21922</th>\n",
       "      <td>NaN</td>\n",
       "      <td>|Argentina|Bs.As. G.B.A. Zona Norte|Tigre||</td>\n",
       "    </tr>\n",
       "    <tr>\n",
       "      <th>23664</th>\n",
       "      <td>NaN</td>\n",
       "      <td>|Argentina|Bs.As. G.B.A. Zona Norte|Tigre||</td>\n",
       "    </tr>\n",
       "    <tr>\n",
       "      <th>24722</th>\n",
       "      <td>NaN</td>\n",
       "      <td>|Argentina|Bs.As. G.B.A. Zona Norte|Tigre||</td>\n",
       "    </tr>\n",
       "    <tr>\n",
       "      <th>38856</th>\n",
       "      <td>NaN</td>\n",
       "      <td>|Argentina|Bs.As. G.B.A. Zona Norte|Tigre||</td>\n",
       "    </tr>\n",
       "    <tr>\n",
       "      <th>45970</th>\n",
       "      <td>NaN</td>\n",
       "      <td>|Argentina|Bs.As. G.B.A. Zona Norte|Tigre||</td>\n",
       "    </tr>\n",
       "    <tr>\n",
       "      <th>46642</th>\n",
       "      <td>NaN</td>\n",
       "      <td>|Argentina|Bs.As. G.B.A. Zona Norte|Tigre||</td>\n",
       "    </tr>\n",
       "    <tr>\n",
       "      <th>53130</th>\n",
       "      <td>NaN</td>\n",
       "      <td>|Argentina|Bs.As. G.B.A. Zona Norte|Tigre||</td>\n",
       "    </tr>\n",
       "    <tr>\n",
       "      <th>55306</th>\n",
       "      <td>NaN</td>\n",
       "      <td>|Argentina|Bs.As. G.B.A. Zona Norte|Tigre||</td>\n",
       "    </tr>\n",
       "    <tr>\n",
       "      <th>57703</th>\n",
       "      <td>NaN</td>\n",
       "      <td>|Argentina|Bs.As. G.B.A. Zona Norte|Tigre||</td>\n",
       "    </tr>\n",
       "    <tr>\n",
       "      <th>57759</th>\n",
       "      <td>NaN</td>\n",
       "      <td>|Argentina|Bs.As. G.B.A. Zona Norte|Tigre||</td>\n",
       "    </tr>\n",
       "    <tr>\n",
       "      <th>57764</th>\n",
       "      <td>NaN</td>\n",
       "      <td>|Argentina|Bs.As. G.B.A. Zona Norte|Tigre||</td>\n",
       "    </tr>\n",
       "    <tr>\n",
       "      <th>57793</th>\n",
       "      <td>NaN</td>\n",
       "      <td>|Argentina|Bs.As. G.B.A. Zona Norte|Tigre||</td>\n",
       "    </tr>\n",
       "    <tr>\n",
       "      <th>58004</th>\n",
       "      <td>NaN</td>\n",
       "      <td>|Argentina|Bs.As. G.B.A. Zona Norte|Tigre||</td>\n",
       "    </tr>\n",
       "    <tr>\n",
       "      <th>58037</th>\n",
       "      <td>NaN</td>\n",
       "      <td>|Argentina|Bs.As. G.B.A. Zona Norte|Tigre||</td>\n",
       "    </tr>\n",
       "    <tr>\n",
       "      <th>59069</th>\n",
       "      <td>NaN</td>\n",
       "      <td>|Argentina|Bs.As. G.B.A. Zona Norte|Tigre||</td>\n",
       "    </tr>\n",
       "    <tr>\n",
       "      <th>62411</th>\n",
       "      <td>NaN</td>\n",
       "      <td>|Argentina|Bs.As. G.B.A. Zona Norte|Tigre||</td>\n",
       "    </tr>\n",
       "    <tr>\n",
       "      <th>62413</th>\n",
       "      <td>NaN</td>\n",
       "      <td>|Argentina|Bs.As. G.B.A. Zona Norte|Tigre||</td>\n",
       "    </tr>\n",
       "    <tr>\n",
       "      <th>63849</th>\n",
       "      <td>NaN</td>\n",
       "      <td>|Argentina|Bs.As. G.B.A. Zona Norte|Tigre||</td>\n",
       "    </tr>\n",
       "  </tbody>\n",
       "</table>\n",
       "</div>"
      ],
      "text/plain": [
       "      place_name                      place_with_parent_names\n",
       "6489         NaN  |Argentina|Bs.As. G.B.A. Zona Norte|Tigre||\n",
       "10201        NaN  |Argentina|Bs.As. G.B.A. Zona Norte|Tigre||\n",
       "11451        NaN  |Argentina|Bs.As. G.B.A. Zona Norte|Tigre||\n",
       "14839        NaN  |Argentina|Bs.As. G.B.A. Zona Norte|Tigre||\n",
       "18622        NaN  |Argentina|Bs.As. G.B.A. Zona Norte|Tigre||\n",
       "21922        NaN  |Argentina|Bs.As. G.B.A. Zona Norte|Tigre||\n",
       "23664        NaN  |Argentina|Bs.As. G.B.A. Zona Norte|Tigre||\n",
       "24722        NaN  |Argentina|Bs.As. G.B.A. Zona Norte|Tigre||\n",
       "38856        NaN  |Argentina|Bs.As. G.B.A. Zona Norte|Tigre||\n",
       "45970        NaN  |Argentina|Bs.As. G.B.A. Zona Norte|Tigre||\n",
       "46642        NaN  |Argentina|Bs.As. G.B.A. Zona Norte|Tigre||\n",
       "53130        NaN  |Argentina|Bs.As. G.B.A. Zona Norte|Tigre||\n",
       "55306        NaN  |Argentina|Bs.As. G.B.A. Zona Norte|Tigre||\n",
       "57703        NaN  |Argentina|Bs.As. G.B.A. Zona Norte|Tigre||\n",
       "57759        NaN  |Argentina|Bs.As. G.B.A. Zona Norte|Tigre||\n",
       "57764        NaN  |Argentina|Bs.As. G.B.A. Zona Norte|Tigre||\n",
       "57793        NaN  |Argentina|Bs.As. G.B.A. Zona Norte|Tigre||\n",
       "58004        NaN  |Argentina|Bs.As. G.B.A. Zona Norte|Tigre||\n",
       "58037        NaN  |Argentina|Bs.As. G.B.A. Zona Norte|Tigre||\n",
       "59069        NaN  |Argentina|Bs.As. G.B.A. Zona Norte|Tigre||\n",
       "62411        NaN  |Argentina|Bs.As. G.B.A. Zona Norte|Tigre||\n",
       "62413        NaN  |Argentina|Bs.As. G.B.A. Zona Norte|Tigre||\n",
       "63849        NaN  |Argentina|Bs.As. G.B.A. Zona Norte|Tigre||"
      ]
     },
     "execution_count": 18,
     "metadata": {},
     "output_type": "execute_result"
    }
   ],
   "source": [
    "o_data[o_data['place_name'].isnull()].iloc[:,3:5]"
   ]
  },
  {
   "cell_type": "markdown",
   "metadata": {},
   "source": [
    "Aparentemente, los 23 valores faltantes para el campo **place_name** podemos obtenerlos del tercer valor concatenado dentro del campo **place_with_parent_names**."
   ]
  },
  {
   "cell_type": "code",
   "execution_count": 19,
   "metadata": {},
   "outputs": [],
   "source": [
    "o_data['place_name'] = o_data.apply(lambda x: x['place_with_parent_names'].split('|')[2] if x['place_name'] in (np.nan, None) else x['place_name'], axis=1)"
   ]
  },
  {
   "cell_type": "markdown",
   "metadata": {},
   "source": [
    "Luego del apply anterior, los valores faltantes fueron introducidos y ya no quedan nulos."
   ]
  },
  {
   "cell_type": "code",
   "execution_count": 20,
   "metadata": {},
   "outputs": [
    {
     "data": {
      "text/html": [
       "<div>\n",
       "<style scoped>\n",
       "    .dataframe tbody tr th:only-of-type {\n",
       "        vertical-align: middle;\n",
       "    }\n",
       "\n",
       "    .dataframe tbody tr th {\n",
       "        vertical-align: top;\n",
       "    }\n",
       "\n",
       "    .dataframe thead th {\n",
       "        text-align: right;\n",
       "    }\n",
       "</style>\n",
       "<table border=\"1\" class=\"dataframe\">\n",
       "  <thead>\n",
       "    <tr style=\"text-align: right;\">\n",
       "      <th></th>\n",
       "      <th>Cardinality</th>\n",
       "      <th>Null</th>\n",
       "      <th>% Null</th>\n",
       "      <th>Non-Null</th>\n",
       "      <th>% Non-Null</th>\n",
       "      <th>Types</th>\n",
       "      <th>Size (mb)</th>\n",
       "    </tr>\n",
       "  </thead>\n",
       "  <tbody>\n",
       "    <tr>\n",
       "      <th>place_with_parent_names</th>\n",
       "      <td>1164</td>\n",
       "      <td>0</td>\n",
       "      <td>0.0</td>\n",
       "      <td>121220</td>\n",
       "      <td>100.0</td>\n",
       "      <td>object</td>\n",
       "      <td>0.96976</td>\n",
       "    </tr>\n",
       "    <tr>\n",
       "      <th>country_name</th>\n",
       "      <td>1</td>\n",
       "      <td>0</td>\n",
       "      <td>0.0</td>\n",
       "      <td>121220</td>\n",
       "      <td>100.0</td>\n",
       "      <td>object</td>\n",
       "      <td>0.96976</td>\n",
       "    </tr>\n",
       "    <tr>\n",
       "      <th>state_name</th>\n",
       "      <td>28</td>\n",
       "      <td>0</td>\n",
       "      <td>0.0</td>\n",
       "      <td>121220</td>\n",
       "      <td>100.0</td>\n",
       "      <td>object</td>\n",
       "      <td>0.96976</td>\n",
       "    </tr>\n",
       "    <tr>\n",
       "      <th>place_name</th>\n",
       "      <td>1060</td>\n",
       "      <td>0</td>\n",
       "      <td>0.0</td>\n",
       "      <td>121220</td>\n",
       "      <td>100.0</td>\n",
       "      <td>object</td>\n",
       "      <td>0.96976</td>\n",
       "    </tr>\n",
       "  </tbody>\n",
       "</table>\n",
       "</div>"
      ],
      "text/plain": [
       "                         Cardinality  Null  % Null  Non-Null  % Non-Null  \\\n",
       "place_with_parent_names         1164     0     0.0    121220       100.0   \n",
       "country_name                       1     0     0.0    121220       100.0   \n",
       "state_name                        28     0     0.0    121220       100.0   \n",
       "place_name                      1060     0     0.0    121220       100.0   \n",
       "\n",
       "                          Types  Size (mb)  \n",
       "place_with_parent_names  object    0.96976  \n",
       "country_name             object    0.96976  \n",
       "state_name               object    0.96976  \n",
       "place_name               object    0.96976  "
      ]
     },
     "execution_count": 20,
     "metadata": {},
     "output_type": "execute_result"
    }
   ],
   "source": [
    "describe_df(o_data.columns, o_data).loc[['place_with_parent_names', 'country_name', 'state_name', 'place_name']]"
   ]
  },
  {
   "cell_type": "markdown",
   "metadata": {},
   "source": [
    "#### Análisis de la variable: country_name\n",
    "\n",
    "##### ¿Es relevante la variable country_name?"
   ]
  },
  {
   "cell_type": "markdown",
   "metadata": {},
   "source": [
    "Luego de la función que cumplió el campo **country_name** en el paso anterior, la hipótesis es que su cardinalidad no aporta nada al análisis."
   ]
  },
  {
   "cell_type": "code",
   "execution_count": 21,
   "metadata": {},
   "outputs": [
    {
     "data": {
      "text/plain": [
       "Argentina    121220\n",
       "Name: country_name, dtype: int64"
      ]
     },
     "execution_count": 21,
     "metadata": {},
     "output_type": "execute_result"
    }
   ],
   "source": [
    "o_data['country_name'].value_counts()"
   ]
  },
  {
   "cell_type": "code",
   "execution_count": 22,
   "metadata": {},
   "outputs": [
    {
     "data": {
      "text/plain": [
       "Cardinality          1\n",
       "Null                 0\n",
       "% Null               0\n",
       "Non-Null        121220\n",
       "% Non-Null         100\n",
       "Types           object\n",
       "Size (mb)      0.96976\n",
       "Name: country_name, dtype: object"
      ]
     },
     "execution_count": 22,
     "metadata": {},
     "output_type": "execute_result"
    }
   ],
   "source": [
    "describe_df(o_data.columns, o_data).loc['country_name']"
   ]
  },
  {
   "cell_type": "markdown",
   "metadata": {},
   "source": [
    "Efectivamente, dado que solo tiene un valor y no registra nulos, podría ser excluido del juego de datos sin ningún impacto posterior."
   ]
  },
  {
   "cell_type": "markdown",
   "metadata": {},
   "source": [
    "#### Análisis de la variable: lat-lon\n",
    "\n",
    "##### ¿Se puede reducir la cantidad de variables relacionadas: lat-lon, lat y lon?"
   ]
  },
  {
   "cell_type": "markdown",
   "metadata": {},
   "source": [
    "La hipótesis es que el campo **lat-lon** puede reemplazar a los valores de los campos **lat** y **lon**, o bien, que ellos reemplacen al campo **lat-lon**.\n",
    "\n",
    "El primer paso es crear un subset del DataFrame original con las columnas que nos interesan."
   ]
  },
  {
   "cell_type": "code",
   "execution_count": 23,
   "metadata": {},
   "outputs": [],
   "source": [
    "coordinates_subset = o_data[['lat-lon', 'lat', 'lon']]"
   ]
  },
  {
   "cell_type": "markdown",
   "metadata": {},
   "source": [
    "Ahora evaluamos los siguientes escenarios:\n",
    "\n",
    "- Cantidad de filas donde los valores de **lat-lon** son nulos y los valores de **lat** y **lon** también lo son (ie. `lat-long is null && lat is null & lon is null`)\n",
    "  - Esto permitiría descartar a la columna **lat-lon** y trabajar con individualmente con sus componentes **lat** y **lon**.\n",
    "- Coincidencia entre los valores en **lat-lon** y los valores en **lat** y **lon**.\n",
    "  - Podría haber discrepancias entre estos campos o bien tener más precisión en alguno de ellos."
   ]
  },
  {
   "cell_type": "code",
   "execution_count": 24,
   "metadata": {},
   "outputs": [
    {
     "data": {
      "text/html": [
       "<div>\n",
       "<style scoped>\n",
       "    .dataframe tbody tr th:only-of-type {\n",
       "        vertical-align: middle;\n",
       "    }\n",
       "\n",
       "    .dataframe tbody tr th {\n",
       "        vertical-align: top;\n",
       "    }\n",
       "\n",
       "    .dataframe thead th {\n",
       "        text-align: right;\n",
       "    }\n",
       "</style>\n",
       "<table border=\"1\" class=\"dataframe\">\n",
       "  <thead>\n",
       "    <tr style=\"text-align: right;\">\n",
       "      <th></th>\n",
       "      <th>Null</th>\n",
       "      <th>% Null</th>\n",
       "      <th>Non-Null</th>\n",
       "      <th>% Non-Null</th>\n",
       "    </tr>\n",
       "  </thead>\n",
       "  <tbody>\n",
       "    <tr>\n",
       "      <th>lat-lon</th>\n",
       "      <td>51550</td>\n",
       "      <td>100.0</td>\n",
       "      <td>0</td>\n",
       "      <td>0.0</td>\n",
       "    </tr>\n",
       "    <tr>\n",
       "      <th>lat</th>\n",
       "      <td>51550</td>\n",
       "      <td>100.0</td>\n",
       "      <td>0</td>\n",
       "      <td>0.0</td>\n",
       "    </tr>\n",
       "    <tr>\n",
       "      <th>lon</th>\n",
       "      <td>51550</td>\n",
       "      <td>100.0</td>\n",
       "      <td>0</td>\n",
       "      <td>0.0</td>\n",
       "    </tr>\n",
       "  </tbody>\n",
       "</table>\n",
       "</div>"
      ],
      "text/plain": [
       "          Null  % Null  Non-Null  % Non-Null\n",
       "lat-lon  51550   100.0         0         0.0\n",
       "lat      51550   100.0         0         0.0\n",
       "lon      51550   100.0         0         0.0"
      ]
     },
     "execution_count": 24,
     "metadata": {},
     "output_type": "execute_result"
    }
   ],
   "source": [
    "coordinates_mask = (coordinates_subset['lat-lon'].isnull()) & (coordinates_subset['lat'].isnull()) & (coordinates_subset['lon'].isnull())\n",
    "describe_df(cols=coordinates_subset.columns, df=coordinates_subset.loc[coordinates_mask]).iloc[:,1:5]"
   ]
  },
  {
   "cell_type": "code",
   "execution_count": 25,
   "metadata": {},
   "outputs": [
    {
     "data": {
      "text/html": [
       "<div>\n",
       "<style scoped>\n",
       "    .dataframe tbody tr th:only-of-type {\n",
       "        vertical-align: middle;\n",
       "    }\n",
       "\n",
       "    .dataframe tbody tr th {\n",
       "        vertical-align: top;\n",
       "    }\n",
       "\n",
       "    .dataframe thead th {\n",
       "        text-align: right;\n",
       "    }\n",
       "</style>\n",
       "<table border=\"1\" class=\"dataframe\">\n",
       "  <thead>\n",
       "    <tr style=\"text-align: right;\">\n",
       "      <th></th>\n",
       "      <th>Null</th>\n",
       "      <th>% Null</th>\n",
       "      <th>Non-Null</th>\n",
       "      <th>% Non-Null</th>\n",
       "    </tr>\n",
       "  </thead>\n",
       "  <tbody>\n",
       "    <tr>\n",
       "      <th>lat-lon</th>\n",
       "      <td>51550</td>\n",
       "      <td>42.526</td>\n",
       "      <td>69670</td>\n",
       "      <td>57.474</td>\n",
       "    </tr>\n",
       "    <tr>\n",
       "      <th>lat</th>\n",
       "      <td>51550</td>\n",
       "      <td>42.526</td>\n",
       "      <td>69670</td>\n",
       "      <td>57.474</td>\n",
       "    </tr>\n",
       "    <tr>\n",
       "      <th>lon</th>\n",
       "      <td>51550</td>\n",
       "      <td>42.526</td>\n",
       "      <td>69670</td>\n",
       "      <td>57.474</td>\n",
       "    </tr>\n",
       "  </tbody>\n",
       "</table>\n",
       "</div>"
      ],
      "text/plain": [
       "          Null  % Null  Non-Null  % Non-Null\n",
       "lat-lon  51550  42.526     69670      57.474\n",
       "lat      51550  42.526     69670      57.474\n",
       "lon      51550  42.526     69670      57.474"
      ]
     },
     "execution_count": 25,
     "metadata": {},
     "output_type": "execute_result"
    }
   ],
   "source": [
    "describe_df(coordinates_subset.columns, coordinates_subset).iloc[:,1:5]"
   ]
  },
  {
   "cell_type": "markdown",
   "metadata": {},
   "source": [
    "Afortunadamente en todas las filas donde los valores de **lat-lon** son nulos, también lo son los valores de las columnas **lat** y **lon**.\n",
    "\n",
    "Esto nos permitiría descartar a los valores de **lat-lon** siempre y cuando los mismos coincidan con aquellos que resultan de concatenar **lat** y **lon**.\n",
    "\n",
    "A continuación probamos esta hipótesis, primero analizando la composición del campo conjunto de coordenadas y luego creando una expresión sintética para evaluar si son iguales:"
   ]
  },
  {
   "cell_type": "code",
   "execution_count": 26,
   "metadata": {},
   "outputs": [],
   "source": [
    "coordinates_subset_not_null = coordinates_subset.loc[coordinates_subset['lat-lon'].isnull() == False]"
   ]
  },
  {
   "cell_type": "code",
   "execution_count": 27,
   "metadata": {},
   "outputs": [
    {
     "data": {
      "text/html": [
       "<div>\n",
       "<style scoped>\n",
       "    .dataframe tbody tr th:only-of-type {\n",
       "        vertical-align: middle;\n",
       "    }\n",
       "\n",
       "    .dataframe tbody tr th {\n",
       "        vertical-align: top;\n",
       "    }\n",
       "\n",
       "    .dataframe thead th {\n",
       "        text-align: right;\n",
       "    }\n",
       "</style>\n",
       "<table border=\"1\" class=\"dataframe\">\n",
       "  <thead>\n",
       "    <tr style=\"text-align: right;\">\n",
       "      <th></th>\n",
       "      <th>lat-lon</th>\n",
       "      <th>lat</th>\n",
       "      <th>lon</th>\n",
       "    </tr>\n",
       "  </thead>\n",
       "  <tbody>\n",
       "    <tr>\n",
       "      <th>0</th>\n",
       "      <td>-34.6618237,-58.5088387</td>\n",
       "      <td>-34.661824</td>\n",
       "      <td>-58.508839</td>\n",
       "    </tr>\n",
       "    <tr>\n",
       "      <th>1</th>\n",
       "      <td>-34.9038831,-57.9643295</td>\n",
       "      <td>-34.903883</td>\n",
       "      <td>-57.964330</td>\n",
       "    </tr>\n",
       "    <tr>\n",
       "      <th>2</th>\n",
       "      <td>-34.6522615,-58.5229825</td>\n",
       "      <td>-34.652262</td>\n",
       "      <td>-58.522982</td>\n",
       "    </tr>\n",
       "    <tr>\n",
       "      <th>3</th>\n",
       "      <td>-34.6477969,-58.5164244</td>\n",
       "      <td>-34.647797</td>\n",
       "      <td>-58.516424</td>\n",
       "    </tr>\n",
       "    <tr>\n",
       "      <th>4</th>\n",
       "      <td>-38.0026256,-57.5494468</td>\n",
       "      <td>-38.002626</td>\n",
       "      <td>-57.549447</td>\n",
       "    </tr>\n",
       "  </tbody>\n",
       "</table>\n",
       "</div>"
      ],
      "text/plain": [
       "                   lat-lon        lat        lon\n",
       "0  -34.6618237,-58.5088387 -34.661824 -58.508839\n",
       "1  -34.9038831,-57.9643295 -34.903883 -57.964330\n",
       "2  -34.6522615,-58.5229825 -34.652262 -58.522982\n",
       "3  -34.6477969,-58.5164244 -34.647797 -58.516424\n",
       "4  -38.0026256,-57.5494468 -38.002626 -57.549447"
      ]
     },
     "execution_count": 27,
     "metadata": {},
     "output_type": "execute_result"
    }
   ],
   "source": [
    "coordinates_subset_not_null.head()"
   ]
  },
  {
   "cell_type": "code",
   "execution_count": 28,
   "metadata": {},
   "outputs": [
    {
     "data": {
      "text/html": [
       "<div>\n",
       "<style scoped>\n",
       "    .dataframe tbody tr th:only-of-type {\n",
       "        vertical-align: middle;\n",
       "    }\n",
       "\n",
       "    .dataframe tbody tr th {\n",
       "        vertical-align: top;\n",
       "    }\n",
       "\n",
       "    .dataframe thead th {\n",
       "        text-align: right;\n",
       "    }\n",
       "</style>\n",
       "<table border=\"1\" class=\"dataframe\">\n",
       "  <thead>\n",
       "    <tr style=\"text-align: right;\">\n",
       "      <th></th>\n",
       "      <th>lat-lon</th>\n",
       "      <th>lat</th>\n",
       "      <th>lon</th>\n",
       "    </tr>\n",
       "  </thead>\n",
       "  <tbody>\n",
       "    <tr>\n",
       "      <th>121153</th>\n",
       "      <td>-34.5992135511,-58.4025191971</td>\n",
       "      <td>-34.599214</td>\n",
       "      <td>-58.402519</td>\n",
       "    </tr>\n",
       "    <tr>\n",
       "      <th>121158</th>\n",
       "      <td>-34.587425443,-58.3973722534</td>\n",
       "      <td>-34.587425</td>\n",
       "      <td>-58.397372</td>\n",
       "    </tr>\n",
       "    <tr>\n",
       "      <th>121160</th>\n",
       "      <td>-34.563685346,-58.4426825896</td>\n",
       "      <td>-34.563685</td>\n",
       "      <td>-58.442683</td>\n",
       "    </tr>\n",
       "    <tr>\n",
       "      <th>121209</th>\n",
       "      <td>-34.563685346,-58.4426825896</td>\n",
       "      <td>-34.563685</td>\n",
       "      <td>-58.442683</td>\n",
       "    </tr>\n",
       "    <tr>\n",
       "      <th>121217</th>\n",
       "      <td>-34.5706388726,-58.4755963355</td>\n",
       "      <td>-34.570639</td>\n",
       "      <td>-58.475596</td>\n",
       "    </tr>\n",
       "  </tbody>\n",
       "</table>\n",
       "</div>"
      ],
      "text/plain": [
       "                              lat-lon        lat        lon\n",
       "121153  -34.5992135511,-58.4025191971 -34.599214 -58.402519\n",
       "121158   -34.587425443,-58.3973722534 -34.587425 -58.397372\n",
       "121160   -34.563685346,-58.4426825896 -34.563685 -58.442683\n",
       "121209   -34.563685346,-58.4426825896 -34.563685 -58.442683\n",
       "121217  -34.5706388726,-58.4755963355 -34.570639 -58.475596"
      ]
     },
     "execution_count": 28,
     "metadata": {},
     "output_type": "execute_result"
    }
   ],
   "source": [
    "coordinates_subset_not_null.tail()"
   ]
  },
  {
   "cell_type": "markdown",
   "metadata": {},
   "source": [
    "A priori se ve que los valores de **lat-lon** tienen algunos decimales más de precisión que los respectivos valores de los campos de **lat** y **lon**. Considerando una hipotética precisión adicional, podría ser útil reemplazar a los valores de los campos **lat** y **lon**.\n",
    "\n",
    "Esto mismo se debe tener en cuenta al momento de hacer la comparación:"
   ]
  },
  {
   "cell_type": "code",
   "execution_count": 29,
   "metadata": {},
   "outputs": [],
   "source": [
    "coordinates_subset_not_null['extracted_lat'] = coordinates_subset_not_null['lat-lon'].apply(lambda x: x.split(',')[0])\n",
    "coordinates_subset_not_null['extracted_lon'] = coordinates_subset_not_null['lat-lon'].apply(lambda x: x.split(',')[1])"
   ]
  },
  {
   "cell_type": "markdown",
   "metadata": {},
   "source": [
    "Comparamos hasta 3 decimales.\n",
    "\n",
    "\"The third decimal place is worth up to 110 m: it can identify a large agricultural field or institutional campus.\"\n",
    "\n",
    "Source: https://stackoverflow.com/questions/1947481/how-many-significant-digits-should-i-store-in-my-database-for-a-gps-coordinate"
   ]
  },
  {
   "cell_type": "code",
   "execution_count": 30,
   "metadata": {},
   "outputs": [
    {
     "data": {
      "text/plain": [
       "(69670, 5)"
      ]
     },
     "execution_count": 30,
     "metadata": {},
     "output_type": "execute_result"
    }
   ],
   "source": [
    "coordinates_subset_not_null['extracted_lat'] = coordinates_subset_not_null['extracted_lat'].astype('float64')\n",
    "coordinates_subset_not_null['extracted_lon'] = coordinates_subset_not_null['extracted_lon'].astype('float64')\n",
    "coordinates_subset_not_null['lat'] = coordinates_subset_not_null['lat'].astype('float64')\n",
    "coordinates_subset_not_null['lon'] = coordinates_subset_not_null['lon'].astype('float64')\n",
    "coordinates_subset_not_null.shape"
   ]
  },
  {
   "cell_type": "code",
   "execution_count": 31,
   "metadata": {},
   "outputs": [
    {
     "data": {
      "text/plain": [
       "69670"
      ]
     },
     "execution_count": 31,
     "metadata": {},
     "output_type": "execute_result"
    }
   ],
   "source": [
    "(coordinates_subset_not_null['extracted_lat'].apply(lambda x: round(x, 3)) == coordinates_subset_not_null['lat'].apply(lambda x: round(x, 3))).sum()"
   ]
  },
  {
   "cell_type": "code",
   "execution_count": 32,
   "metadata": {},
   "outputs": [
    {
     "data": {
      "text/plain": [
       "69670"
      ]
     },
     "execution_count": 32,
     "metadata": {},
     "output_type": "execute_result"
    }
   ],
   "source": [
    "(coordinates_subset_not_null['extracted_lon'].apply(lambda x: round(x, 3)) == coordinates_subset_not_null['lon'].apply(lambda x: round(x, 3))).sum()"
   ]
  },
  {
   "cell_type": "markdown",
   "metadata": {},
   "source": [
    "En el punto anterior logramos comprobar que los valores de los tres campos analizados coinciden entre sí hasta en un rango de 111 metros, en todos los casos.\n",
    "\n",
    "Resulta una buena oportunidad apalancar la precisión adicional presente en el campo **lat-lon** para reemplazar a los valores existentes en **lat** y **lon** respectivamente.\n",
    "\n",
    "Además, se podría desestimar el campo **lat-lon** ahora que fue desestructurado."
   ]
  },
  {
   "cell_type": "code",
   "execution_count": 33,
   "metadata": {},
   "outputs": [
    {
     "data": {
      "text/html": [
       "<div>\n",
       "<style scoped>\n",
       "    .dataframe tbody tr th:only-of-type {\n",
       "        vertical-align: middle;\n",
       "    }\n",
       "\n",
       "    .dataframe tbody tr th {\n",
       "        vertical-align: top;\n",
       "    }\n",
       "\n",
       "    .dataframe thead th {\n",
       "        text-align: right;\n",
       "    }\n",
       "</style>\n",
       "<table border=\"1\" class=\"dataframe\">\n",
       "  <thead>\n",
       "    <tr style=\"text-align: right;\">\n",
       "      <th></th>\n",
       "      <th>Cardinality</th>\n",
       "      <th>Null</th>\n",
       "      <th>% Null</th>\n",
       "      <th>Non-Null</th>\n",
       "      <th>% Non-Null</th>\n",
       "      <th>Types</th>\n",
       "      <th>Size (mb)</th>\n",
       "    </tr>\n",
       "  </thead>\n",
       "  <tbody>\n",
       "    <tr>\n",
       "      <th>lat-lon</th>\n",
       "      <td>47203</td>\n",
       "      <td>51550</td>\n",
       "      <td>42.526</td>\n",
       "      <td>69670</td>\n",
       "      <td>57.474</td>\n",
       "      <td>object</td>\n",
       "      <td>0.96976</td>\n",
       "    </tr>\n",
       "    <tr>\n",
       "      <th>lon</th>\n",
       "      <td>46522</td>\n",
       "      <td>51550</td>\n",
       "      <td>42.526</td>\n",
       "      <td>69670</td>\n",
       "      <td>57.474</td>\n",
       "      <td>float64</td>\n",
       "      <td>0.96976</td>\n",
       "    </tr>\n",
       "    <tr>\n",
       "      <th>lat</th>\n",
       "      <td>46495</td>\n",
       "      <td>51550</td>\n",
       "      <td>42.526</td>\n",
       "      <td>69670</td>\n",
       "      <td>57.474</td>\n",
       "      <td>float64</td>\n",
       "      <td>0.96976</td>\n",
       "    </tr>\n",
       "  </tbody>\n",
       "</table>\n",
       "</div>"
      ],
      "text/plain": [
       "         Cardinality   Null  % Null  Non-Null  % Non-Null    Types  Size (mb)\n",
       "lat-lon        47203  51550  42.526     69670      57.474   object    0.96976\n",
       "lon            46522  51550  42.526     69670      57.474  float64    0.96976\n",
       "lat            46495  51550  42.526     69670      57.474  float64    0.96976"
      ]
     },
     "execution_count": 33,
     "metadata": {},
     "output_type": "execute_result"
    }
   ],
   "source": [
    "o_data['lat'] = o_data['lat-lon'].map(lambda x: x.split(',')[0] if isinstance(x, str) else np.nan)\n",
    "o_data['lon'] = o_data['lat-lon'].map(lambda x: x.split(',')[1] if isinstance(x, str) else np.nan)\n",
    "o_data['lat'] = o_data['lat'].astype('float64')\n",
    "o_data['lon'] = o_data['lon'].astype('float64')\n",
    "describe_df(o_data.columns, o_data).loc[['lat-lon', 'lon', 'lat']]"
   ]
  },
  {
   "cell_type": "markdown",
   "metadata": {},
   "source": [
    "#### Análisis de la variable: geonames_id\n",
    "\n",
    "##### ¿Es relevante el campo geonames_id?"
   ]
  },
  {
   "cell_type": "markdown",
   "metadata": {},
   "source": [
    "La hipótesis es que el campo **geonames_id** hace referencia a la base de datos: https://www.geonames.org/\n",
    "\n",
    "En este caso, podría ser útil evaluar si existen casos donde **geonames_id** pueda complementar a las columnas de **lat** y **lon**.\n",
    "\n",
    "El primer paso es crear un subset del DataFrame original con las columnas que nos interesan."
   ]
  },
  {
   "cell_type": "code",
   "execution_count": 34,
   "metadata": {},
   "outputs": [],
   "source": [
    "geo_subset = o_data[['geonames_id', 'lat', 'lon']]"
   ]
  },
  {
   "cell_type": "markdown",
   "metadata": {},
   "source": [
    "Ahora evaluamos los siguientes escenarios:\n",
    "\n",
    "- Cantidad de filas donde **geonames_id** no es nulo pero los campos **lat** y **lon** sí lo son.\n",
    "  - Para las filas donde esto suceda, **geonames_id** podría utilizarse para completarlas."
   ]
  },
  {
   "cell_type": "code",
   "execution_count": 35,
   "metadata": {},
   "outputs": [
    {
     "data": {
      "text/html": [
       "<div>\n",
       "<style scoped>\n",
       "    .dataframe tbody tr th:only-of-type {\n",
       "        vertical-align: middle;\n",
       "    }\n",
       "\n",
       "    .dataframe tbody tr th {\n",
       "        vertical-align: top;\n",
       "    }\n",
       "\n",
       "    .dataframe thead th {\n",
       "        text-align: right;\n",
       "    }\n",
       "</style>\n",
       "<table border=\"1\" class=\"dataframe\">\n",
       "  <thead>\n",
       "    <tr style=\"text-align: right;\">\n",
       "      <th></th>\n",
       "      <th>Cardinality</th>\n",
       "      <th>Null</th>\n",
       "      <th>% Null</th>\n",
       "      <th>Non-Null</th>\n",
       "      <th>% Non-Null</th>\n",
       "      <th>Types</th>\n",
       "      <th>Size (mb)</th>\n",
       "    </tr>\n",
       "  </thead>\n",
       "  <tbody>\n",
       "    <tr>\n",
       "      <th>geonames_id</th>\n",
       "      <td>463</td>\n",
       "      <td>0</td>\n",
       "      <td>0.0</td>\n",
       "      <td>43365</td>\n",
       "      <td>100.0</td>\n",
       "      <td>float64</td>\n",
       "      <td>0.34692</td>\n",
       "    </tr>\n",
       "    <tr>\n",
       "      <th>lat</th>\n",
       "      <td>0</td>\n",
       "      <td>43365</td>\n",
       "      <td>100.0</td>\n",
       "      <td>0</td>\n",
       "      <td>0.0</td>\n",
       "      <td>float64</td>\n",
       "      <td>0.34692</td>\n",
       "    </tr>\n",
       "    <tr>\n",
       "      <th>lon</th>\n",
       "      <td>0</td>\n",
       "      <td>43365</td>\n",
       "      <td>100.0</td>\n",
       "      <td>0</td>\n",
       "      <td>0.0</td>\n",
       "      <td>float64</td>\n",
       "      <td>0.34692</td>\n",
       "    </tr>\n",
       "  </tbody>\n",
       "</table>\n",
       "</div>"
      ],
      "text/plain": [
       "             Cardinality   Null  % Null  Non-Null  % Non-Null    Types  \\\n",
       "geonames_id          463      0     0.0     43365       100.0  float64   \n",
       "lat                    0  43365   100.0         0         0.0  float64   \n",
       "lon                    0  43365   100.0         0         0.0  float64   \n",
       "\n",
       "             Size (mb)  \n",
       "geonames_id    0.34692  \n",
       "lat            0.34692  \n",
       "lon            0.34692  "
      ]
     },
     "execution_count": 35,
     "metadata": {},
     "output_type": "execute_result"
    }
   ],
   "source": [
    "geo_subset_null_mask = (geo_subset['geonames_id'].isnull() == False) & (geo_subset['lat'].isnull()) & (geo_subset['lon'].isnull())\n",
    "geo_subset_null = geo_subset[geo_subset_null_mask]\n",
    "describe_df(geo_subset_null.columns, geo_subset_null)"
   ]
  },
  {
   "cell_type": "markdown",
   "metadata": {},
   "source": [
    "El hecho de que para cada fila donde los valores de **lat** y **lon** son nulos exista un valor de **geonames_id**, permite la posibilidad de completar, por lo menos, algunos de los valores faltantes.\n",
    "\n",
    "Para esto descargamos el dataset de Argentina disponible en la siguiente URL: https://download.geonames.org/export/dump/"
   ]
  },
  {
   "cell_type": "code",
   "execution_count": 36,
   "metadata": {},
   "outputs": [
    {
     "data": {
      "text/html": [
       "<div>\n",
       "<style scoped>\n",
       "    .dataframe tbody tr th:only-of-type {\n",
       "        vertical-align: middle;\n",
       "    }\n",
       "\n",
       "    .dataframe tbody tr th {\n",
       "        vertical-align: top;\n",
       "    }\n",
       "\n",
       "    .dataframe thead th {\n",
       "        text-align: right;\n",
       "    }\n",
       "</style>\n",
       "<table border=\"1\" class=\"dataframe\">\n",
       "  <thead>\n",
       "    <tr style=\"text-align: right;\">\n",
       "      <th></th>\n",
       "      <th>name</th>\n",
       "      <th>asciiname</th>\n",
       "      <th>alternatenames</th>\n",
       "      <th>latitude</th>\n",
       "      <th>longitude</th>\n",
       "      <th>feature_class</th>\n",
       "      <th>feature_code</th>\n",
       "      <th>country_code</th>\n",
       "      <th>cc2</th>\n",
       "      <th>admin1_code</th>\n",
       "      <th>admin2_code</th>\n",
       "      <th>admin3_code</th>\n",
       "      <th>admin4 code</th>\n",
       "      <th>population</th>\n",
       "      <th>elevation</th>\n",
       "      <th>dem</th>\n",
       "      <th>timezone</th>\n",
       "      <th>modification date</th>\n",
       "    </tr>\n",
       "    <tr>\n",
       "      <th>geonames_id</th>\n",
       "      <th></th>\n",
       "      <th></th>\n",
       "      <th></th>\n",
       "      <th></th>\n",
       "      <th></th>\n",
       "      <th></th>\n",
       "      <th></th>\n",
       "      <th></th>\n",
       "      <th></th>\n",
       "      <th></th>\n",
       "      <th></th>\n",
       "      <th></th>\n",
       "      <th></th>\n",
       "      <th></th>\n",
       "      <th></th>\n",
       "      <th></th>\n",
       "      <th></th>\n",
       "      <th></th>\n",
       "    </tr>\n",
       "  </thead>\n",
       "  <tbody>\n",
       "    <tr>\n",
       "      <th>3427200</th>\n",
       "      <td>Sierra del 15</td>\n",
       "      <td>Sierra del 15</td>\n",
       "      <td>NaN</td>\n",
       "      <td>-37.96613</td>\n",
       "      <td>-57.94670</td>\n",
       "      <td>T</td>\n",
       "      <td>HLL</td>\n",
       "      <td>AR</td>\n",
       "      <td>NaN</td>\n",
       "      <td>1.0</td>\n",
       "      <td>6357.0</td>\n",
       "      <td>NaN</td>\n",
       "      <td>NaN</td>\n",
       "      <td>0</td>\n",
       "      <td>NaN</td>\n",
       "      <td>200</td>\n",
       "      <td>America/Argentina/Buenos_Aires</td>\n",
       "      <td>2016-01-30</td>\n",
       "    </tr>\n",
       "    <tr>\n",
       "      <th>3427201</th>\n",
       "      <td>Puesto 1 Napoleón Cué</td>\n",
       "      <td>Puesto 1 Napoleon Cue</td>\n",
       "      <td>NaN</td>\n",
       "      <td>-28.63333</td>\n",
       "      <td>-56.11667</td>\n",
       "      <td>S</td>\n",
       "      <td>HSE</td>\n",
       "      <td>AR</td>\n",
       "      <td>NaN</td>\n",
       "      <td>6.0</td>\n",
       "      <td>18168.0</td>\n",
       "      <td>NaN</td>\n",
       "      <td>NaN</td>\n",
       "      <td>0</td>\n",
       "      <td>NaN</td>\n",
       "      <td>79</td>\n",
       "      <td>America/Argentina/Cordoba</td>\n",
       "      <td>2016-01-30</td>\n",
       "    </tr>\n",
       "    <tr>\n",
       "      <th>3427202</th>\n",
       "      <td>Cañada del Zorro</td>\n",
       "      <td>Canada del Zorro</td>\n",
       "      <td>NaN</td>\n",
       "      <td>-32.16667</td>\n",
       "      <td>-59.50000</td>\n",
       "      <td>H</td>\n",
       "      <td>STM</td>\n",
       "      <td>AR</td>\n",
       "      <td>NaN</td>\n",
       "      <td>8.0</td>\n",
       "      <td>NaN</td>\n",
       "      <td>NaN</td>\n",
       "      <td>NaN</td>\n",
       "      <td>0</td>\n",
       "      <td>NaN</td>\n",
       "      <td>65</td>\n",
       "      <td>America/Argentina/Cordoba</td>\n",
       "      <td>1993-12-21</td>\n",
       "    </tr>\n",
       "    <tr>\n",
       "      <th>3427203</th>\n",
       "      <td>Estancia Zorraquín</td>\n",
       "      <td>Estancia Zorraquin</td>\n",
       "      <td>NaN</td>\n",
       "      <td>-31.51553</td>\n",
       "      <td>-58.55208</td>\n",
       "      <td>S</td>\n",
       "      <td>RNCH</td>\n",
       "      <td>AR</td>\n",
       "      <td>NaN</td>\n",
       "      <td>8.0</td>\n",
       "      <td>30113.0</td>\n",
       "      <td>NaN</td>\n",
       "      <td>NaN</td>\n",
       "      <td>0</td>\n",
       "      <td>NaN</td>\n",
       "      <td>71</td>\n",
       "      <td>America/Argentina/Cordoba</td>\n",
       "      <td>2016-01-30</td>\n",
       "    </tr>\n",
       "    <tr>\n",
       "      <th>3427204</th>\n",
       "      <td>Estancia Zequeira Cué</td>\n",
       "      <td>Estancia Zequeira Cue</td>\n",
       "      <td>NaN</td>\n",
       "      <td>-28.43825</td>\n",
       "      <td>-56.08838</td>\n",
       "      <td>S</td>\n",
       "      <td>RNCH</td>\n",
       "      <td>AR</td>\n",
       "      <td>NaN</td>\n",
       "      <td>6.0</td>\n",
       "      <td>18168.0</td>\n",
       "      <td>NaN</td>\n",
       "      <td>NaN</td>\n",
       "      <td>0</td>\n",
       "      <td>NaN</td>\n",
       "      <td>98</td>\n",
       "      <td>America/Argentina/Cordoba</td>\n",
       "      <td>2016-01-30</td>\n",
       "    </tr>\n",
       "  </tbody>\n",
       "</table>\n",
       "</div>"
      ],
      "text/plain": [
       "                              name              asciiname alternatenames  \\\n",
       "geonames_id                                                                \n",
       "3427200              Sierra del 15          Sierra del 15            NaN   \n",
       "3427201      Puesto 1 Napoleón Cué  Puesto 1 Napoleon Cue            NaN   \n",
       "3427202           Cañada del Zorro       Canada del Zorro            NaN   \n",
       "3427203         Estancia Zorraquín     Estancia Zorraquin            NaN   \n",
       "3427204      Estancia Zequeira Cué  Estancia Zequeira Cue            NaN   \n",
       "\n",
       "             latitude  longitude feature_class feature_code country_code  cc2  \\\n",
       "geonames_id                                                                     \n",
       "3427200     -37.96613  -57.94670             T          HLL           AR  NaN   \n",
       "3427201     -28.63333  -56.11667             S          HSE           AR  NaN   \n",
       "3427202     -32.16667  -59.50000             H          STM           AR  NaN   \n",
       "3427203     -31.51553  -58.55208             S         RNCH           AR  NaN   \n",
       "3427204     -28.43825  -56.08838             S         RNCH           AR  NaN   \n",
       "\n",
       "             admin1_code  admin2_code  admin3_code  admin4 code  population  \\\n",
       "geonames_id                                                                   \n",
       "3427200              1.0       6357.0          NaN          NaN           0   \n",
       "3427201              6.0      18168.0          NaN          NaN           0   \n",
       "3427202              8.0          NaN          NaN          NaN           0   \n",
       "3427203              8.0      30113.0          NaN          NaN           0   \n",
       "3427204              6.0      18168.0          NaN          NaN           0   \n",
       "\n",
       "             elevation  dem                        timezone modification date  \n",
       "geonames_id                                                                    \n",
       "3427200            NaN  200  America/Argentina/Buenos_Aires        2016-01-30  \n",
       "3427201            NaN   79       America/Argentina/Cordoba        2016-01-30  \n",
       "3427202            NaN   65       America/Argentina/Cordoba        1993-12-21  \n",
       "3427203            NaN   71       America/Argentina/Cordoba        2016-01-30  \n",
       "3427204            NaN   98       America/Argentina/Cordoba        2016-01-30  "
      ]
     },
     "execution_count": 36,
     "metadata": {},
     "output_type": "execute_result"
    }
   ],
   "source": [
    "geonames_columns = ['geonames_id', 'name', 'asciiname', 'alternatenames', 'latitude', 'longitude', 'feature_class', 'feature_code', 'country_code', 'cc2', \n",
    "                    'admin1_code', 'admin2_code', 'admin3_code', 'admin4 code', 'population', 'elevation', 'dem', 'timezone', 'modification date']\n",
    "\n",
    "geonames_df = pd.read_csv('AR.txt', delimiter='\\t', names=geonames_columns)\n",
    "geonames_df.set_index('geonames_id', inplace=True)\n",
    "geonames_df.head()"
   ]
  },
  {
   "cell_type": "markdown",
   "metadata": {},
   "source": [
    "Una vez cargado el conjunto de datos anterior, el paso siguiente es determinar los valores unívocos de **geonames_id** y hacer el mapeo de las columnas **lat** y **lon**."
   ]
  },
  {
   "cell_type": "code",
   "execution_count": 37,
   "metadata": {},
   "outputs": [],
   "source": [
    "geonames_lat_mapping_dict = { geo_id: geonames_df.loc[int(geo_id)].loc['latitude'] for geo_id in geo_subset_null['geonames_id'].unique() if geo_id in geonames_df.index }\n",
    "geonames_lon_mapping_dict = { geo_id: geonames_df.loc[int(geo_id)].loc['longitude'] for geo_id in geo_subset_null['geonames_id'].unique() if geo_id in geonames_df.index }"
   ]
  },
  {
   "cell_type": "code",
   "execution_count": 38,
   "metadata": {},
   "outputs": [],
   "source": [
    "o_data['lat'] = o_data.apply(lambda x: geonames_lat_mapping_dict.get(x['geonames_id'], np.nan) if np.isnan(x['lat']) else x['lat'], axis=1)\n",
    "o_data['lon'] = o_data.apply(lambda x: geonames_lon_mapping_dict.get(x['geonames_id'], np.nan) if np.isnan(x['lon']) else x['lon'], axis=1)"
   ]
  },
  {
   "cell_type": "markdown",
   "metadata": {},
   "source": [
    "Se logró incrementar la cantidad de filas con valores no nulos para las columnas **lat** y **lon** hasta el 93.115% del total."
   ]
  },
  {
   "cell_type": "code",
   "execution_count": 39,
   "metadata": {},
   "outputs": [
    {
     "data": {
      "text/html": [
       "<div>\n",
       "<style scoped>\n",
       "    .dataframe tbody tr th:only-of-type {\n",
       "        vertical-align: middle;\n",
       "    }\n",
       "\n",
       "    .dataframe tbody tr th {\n",
       "        vertical-align: top;\n",
       "    }\n",
       "\n",
       "    .dataframe thead th {\n",
       "        text-align: right;\n",
       "    }\n",
       "</style>\n",
       "<table border=\"1\" class=\"dataframe\">\n",
       "  <thead>\n",
       "    <tr style=\"text-align: right;\">\n",
       "      <th></th>\n",
       "      <th>Cardinality</th>\n",
       "      <th>Null</th>\n",
       "      <th>% Null</th>\n",
       "      <th>Non-Null</th>\n",
       "      <th>% Non-Null</th>\n",
       "      <th>Types</th>\n",
       "      <th>Size (mb)</th>\n",
       "    </tr>\n",
       "  </thead>\n",
       "  <tbody>\n",
       "    <tr>\n",
       "      <th>lat</th>\n",
       "      <td>46918</td>\n",
       "      <td>8346</td>\n",
       "      <td>6.885</td>\n",
       "      <td>112874</td>\n",
       "      <td>93.115</td>\n",
       "      <td>float64</td>\n",
       "      <td>0.96976</td>\n",
       "    </tr>\n",
       "    <tr>\n",
       "      <th>lon</th>\n",
       "      <td>46942</td>\n",
       "      <td>8346</td>\n",
       "      <td>6.885</td>\n",
       "      <td>112874</td>\n",
       "      <td>93.115</td>\n",
       "      <td>float64</td>\n",
       "      <td>0.96976</td>\n",
       "    </tr>\n",
       "  </tbody>\n",
       "</table>\n",
       "</div>"
      ],
      "text/plain": [
       "     Cardinality  Null  % Null  Non-Null  % Non-Null    Types  Size (mb)\n",
       "lat        46918  8346   6.885    112874      93.115  float64    0.96976\n",
       "lon        46942  8346   6.885    112874      93.115  float64    0.96976"
      ]
     },
     "execution_count": 39,
     "metadata": {},
     "output_type": "execute_result"
    }
   ],
   "source": [
    "describe_df(o_data.columns, o_data).loc[['lat', 'lon']]"
   ]
  },
  {
   "cell_type": "markdown",
   "metadata": {},
   "source": [
    "Existen otras dos alternativas para llevar el porcentaje de nulos a un valor todavía más bajo:\n",
    "* utilizar el valor de la columna **place_name** para buscar una latitud y longitud dentro del DataFrame `geonames_df`.\n",
    "\n",
    "* utilizar el valor de la columna **place_name** para buscar latitudes y longitudes ya existentes dentro del DataFrame original."
   ]
  },
  {
   "cell_type": "markdown",
   "metadata": {},
   "source": [
    "Si bien la primera alternativa parece ideal, no es tan exacta como se puede ver a continuación dado que existen varias ubicaciones con un mismo nombre pero en distintas provincias:"
   ]
  },
  {
   "cell_type": "code",
   "execution_count": 40,
   "metadata": {},
   "outputs": [
    {
     "data": {
      "text/html": [
       "<div>\n",
       "<style scoped>\n",
       "    .dataframe tbody tr th:only-of-type {\n",
       "        vertical-align: middle;\n",
       "    }\n",
       "\n",
       "    .dataframe tbody tr th {\n",
       "        vertical-align: top;\n",
       "    }\n",
       "\n",
       "    .dataframe thead th {\n",
       "        text-align: right;\n",
       "    }\n",
       "</style>\n",
       "<table border=\"1\" class=\"dataframe\">\n",
       "  <thead>\n",
       "    <tr style=\"text-align: right;\">\n",
       "      <th></th>\n",
       "      <th>name</th>\n",
       "      <th>asciiname</th>\n",
       "      <th>alternatenames</th>\n",
       "      <th>latitude</th>\n",
       "      <th>longitude</th>\n",
       "      <th>feature_class</th>\n",
       "      <th>feature_code</th>\n",
       "      <th>country_code</th>\n",
       "      <th>cc2</th>\n",
       "      <th>admin1_code</th>\n",
       "      <th>admin2_code</th>\n",
       "      <th>admin3_code</th>\n",
       "      <th>admin4 code</th>\n",
       "      <th>population</th>\n",
       "      <th>elevation</th>\n",
       "      <th>dem</th>\n",
       "      <th>timezone</th>\n",
       "      <th>modification date</th>\n",
       "    </tr>\n",
       "    <tr>\n",
       "      <th>geonames_id</th>\n",
       "      <th></th>\n",
       "      <th></th>\n",
       "      <th></th>\n",
       "      <th></th>\n",
       "      <th></th>\n",
       "      <th></th>\n",
       "      <th></th>\n",
       "      <th></th>\n",
       "      <th></th>\n",
       "      <th></th>\n",
       "      <th></th>\n",
       "      <th></th>\n",
       "      <th></th>\n",
       "      <th></th>\n",
       "      <th></th>\n",
       "      <th></th>\n",
       "      <th></th>\n",
       "      <th></th>\n",
       "    </tr>\n",
       "  </thead>\n",
       "  <tbody>\n",
       "    <tr>\n",
       "      <th>3429980</th>\n",
       "      <td>Pilar</td>\n",
       "      <td>Pilar</td>\n",
       "      <td>Pilar</td>\n",
       "      <td>-34.45866</td>\n",
       "      <td>-58.91420</td>\n",
       "      <td>P</td>\n",
       "      <td>PPLA2</td>\n",
       "      <td>AR</td>\n",
       "      <td>NaN</td>\n",
       "      <td>1.0</td>\n",
       "      <td>6638.0</td>\n",
       "      <td>NaN</td>\n",
       "      <td>NaN</td>\n",
       "      <td>226517</td>\n",
       "      <td>NaN</td>\n",
       "      <td>27</td>\n",
       "      <td>America/Argentina/Buenos_Aires</td>\n",
       "      <td>2017-12-21</td>\n",
       "    </tr>\n",
       "    <tr>\n",
       "      <th>3480748</th>\n",
       "      <td>Pilar</td>\n",
       "      <td>Pilar</td>\n",
       "      <td>NaN</td>\n",
       "      <td>-34.43750</td>\n",
       "      <td>-58.90556</td>\n",
       "      <td>L</td>\n",
       "      <td>LCTY</td>\n",
       "      <td>AR</td>\n",
       "      <td>NaN</td>\n",
       "      <td>1.0</td>\n",
       "      <td>NaN</td>\n",
       "      <td>NaN</td>\n",
       "      <td>NaN</td>\n",
       "      <td>0</td>\n",
       "      <td>NaN</td>\n",
       "      <td>18</td>\n",
       "      <td>America/Argentina/Buenos_Aires</td>\n",
       "      <td>2013-08-08</td>\n",
       "    </tr>\n",
       "    <tr>\n",
       "      <th>3841149</th>\n",
       "      <td>Pilar</td>\n",
       "      <td>Pilar</td>\n",
       "      <td>Pilar</td>\n",
       "      <td>-31.67890</td>\n",
       "      <td>-63.87964</td>\n",
       "      <td>P</td>\n",
       "      <td>PPL</td>\n",
       "      <td>AR</td>\n",
       "      <td>NaN</td>\n",
       "      <td>5.0</td>\n",
       "      <td>14119.0</td>\n",
       "      <td>NaN</td>\n",
       "      <td>NaN</td>\n",
       "      <td>12488</td>\n",
       "      <td>NaN</td>\n",
       "      <td>334</td>\n",
       "      <td>America/Argentina/Cordoba</td>\n",
       "      <td>2016-01-30</td>\n",
       "    </tr>\n",
       "    <tr>\n",
       "      <th>3841150</th>\n",
       "      <td>Pilar</td>\n",
       "      <td>Pilar</td>\n",
       "      <td>NaN</td>\n",
       "      <td>-31.43937</td>\n",
       "      <td>-61.25884</td>\n",
       "      <td>P</td>\n",
       "      <td>PPL</td>\n",
       "      <td>AR</td>\n",
       "      <td>NaN</td>\n",
       "      <td>21.0</td>\n",
       "      <td>82070.0</td>\n",
       "      <td>NaN</td>\n",
       "      <td>NaN</td>\n",
       "      <td>0</td>\n",
       "      <td>NaN</td>\n",
       "      <td>62</td>\n",
       "      <td>America/Argentina/Cordoba</td>\n",
       "      <td>2016-01-30</td>\n",
       "    </tr>\n",
       "  </tbody>\n",
       "</table>\n",
       "</div>"
      ],
      "text/plain": [
       "              name asciiname alternatenames  latitude  longitude  \\\n",
       "geonames_id                                                        \n",
       "3429980      Pilar     Pilar          Pilar -34.45866  -58.91420   \n",
       "3480748      Pilar     Pilar            NaN -34.43750  -58.90556   \n",
       "3841149      Pilar     Pilar          Pilar -31.67890  -63.87964   \n",
       "3841150      Pilar     Pilar            NaN -31.43937  -61.25884   \n",
       "\n",
       "            feature_class feature_code country_code  cc2  admin1_code  \\\n",
       "geonames_id                                                             \n",
       "3429980                 P        PPLA2           AR  NaN          1.0   \n",
       "3480748                 L         LCTY           AR  NaN          1.0   \n",
       "3841149                 P          PPL           AR  NaN          5.0   \n",
       "3841150                 P          PPL           AR  NaN         21.0   \n",
       "\n",
       "             admin2_code  admin3_code  admin4 code  population  elevation  \\\n",
       "geonames_id                                                                 \n",
       "3429980           6638.0          NaN          NaN      226517        NaN   \n",
       "3480748              NaN          NaN          NaN           0        NaN   \n",
       "3841149          14119.0          NaN          NaN       12488        NaN   \n",
       "3841150          82070.0          NaN          NaN           0        NaN   \n",
       "\n",
       "             dem                        timezone modification date  \n",
       "geonames_id                                                         \n",
       "3429980       27  America/Argentina/Buenos_Aires        2017-12-21  \n",
       "3480748       18  America/Argentina/Buenos_Aires        2013-08-08  \n",
       "3841149      334       America/Argentina/Cordoba        2016-01-30  \n",
       "3841150       62       America/Argentina/Cordoba        2016-01-30  "
      ]
     },
     "execution_count": 40,
     "metadata": {},
     "output_type": "execute_result"
    }
   ],
   "source": [
    "geonames_df.loc[ geonames_df['name'] == 'Pilar' ]"
   ]
  },
  {
   "cell_type": "markdown",
   "metadata": {},
   "source": [
    "La otra alternativa tiene menos margen de error dado que podemos acotar los aciertos entre provincias utilizando el campo **state_name**.\n",
    "\n",
    "El primer paso es armar un subconjunto de valores con menos registros para agilizar la búsqueda:"
   ]
  },
  {
   "cell_type": "code",
   "execution_count": 41,
   "metadata": {},
   "outputs": [
    {
     "data": {
      "text/html": [
       "<div>\n",
       "<style scoped>\n",
       "    .dataframe tbody tr th:only-of-type {\n",
       "        vertical-align: middle;\n",
       "    }\n",
       "\n",
       "    .dataframe tbody tr th {\n",
       "        vertical-align: top;\n",
       "    }\n",
       "\n",
       "    .dataframe thead th {\n",
       "        text-align: right;\n",
       "    }\n",
       "</style>\n",
       "<table border=\"1\" class=\"dataframe\">\n",
       "  <thead>\n",
       "    <tr style=\"text-align: right;\">\n",
       "      <th></th>\n",
       "      <th>lat</th>\n",
       "      <th>lon</th>\n",
       "    </tr>\n",
       "    <tr>\n",
       "      <th>place_id</th>\n",
       "      <th></th>\n",
       "      <th></th>\n",
       "    </tr>\n",
       "  </thead>\n",
       "  <tbody>\n",
       "    <tr>\n",
       "      <th>Buenos Aires Costa Atlántica-Centro</th>\n",
       "      <td>-38.002626</td>\n",
       "      <td>-57.549447</td>\n",
       "    </tr>\n",
       "    <tr>\n",
       "      <th>Bs.As. G.B.A. Zona Norte-San Miguel</th>\n",
       "      <td>-34.539057</td>\n",
       "      <td>-58.719609</td>\n",
       "    </tr>\n",
       "    <tr>\n",
       "      <th>Bs.As. G.B.A. Zona Norte-Tigre</th>\n",
       "      <td>-34.425087</td>\n",
       "      <td>-58.579659</td>\n",
       "    </tr>\n",
       "    <tr>\n",
       "      <th>Bs.As. G.B.A. Zona Norte-Estancias del Pilar</th>\n",
       "      <td>-34.479486</td>\n",
       "      <td>-58.984541</td>\n",
       "    </tr>\n",
       "    <tr>\n",
       "      <th>Bs.As. G.B.A. Zona Norte-Pilar</th>\n",
       "      <td>-34.453857</td>\n",
       "      <td>-58.840181</td>\n",
       "    </tr>\n",
       "  </tbody>\n",
       "</table>\n",
       "</div>"
      ],
      "text/plain": [
       "                                                    lat        lon\n",
       "place_id                                                          \n",
       "Buenos Aires Costa Atlántica-Centro          -38.002626 -57.549447\n",
       "Bs.As. G.B.A. Zona Norte-San Miguel          -34.539057 -58.719609\n",
       "Bs.As. G.B.A. Zona Norte-Tigre               -34.425087 -58.579659\n",
       "Bs.As. G.B.A. Zona Norte-Estancias del Pilar -34.479486 -58.984541\n",
       "Bs.As. G.B.A. Zona Norte-Pilar               -34.453857 -58.840181"
      ]
     },
     "execution_count": 41,
     "metadata": {},
     "output_type": "execute_result"
    }
   ],
   "source": [
    "missing_coordinates_places = o_data[o_data['lat'].isnull()]['place_name'].unique()\n",
    "missing_coordinates_states = o_data[o_data['lat'].isnull()]['state_name'].unique()\n",
    "lookup_subset = o_data.loc[ (o_data['state_name'].isin(missing_coordinates_states)) & (o_data['place_name'].isin(missing_coordinates_places)) & (o_data['lat'].isnull() == False) ]\n",
    "lookup_subset['place_id'] = lookup_subset['state_name'] + '-' + lookup_subset['place_name']\n",
    "lookup_subset = lookup_subset[['place_id', 'lat', 'lon']]\n",
    "lookup_subset = lookup_subset.drop_duplicates(subset='place_id')\n",
    "lookup_subset.set_index('place_id', inplace=True)\n",
    "lookup_subset.head(5)"
   ]
  },
  {
   "cell_type": "markdown",
   "metadata": {},
   "source": [
    "Definimos una función que dado un valor de fila, busque en el DataFrame `lookup_subset` la coordenada correspondiente: "
   ]
  },
  {
   "cell_type": "code",
   "execution_count": 42,
   "metadata": {},
   "outputs": [],
   "source": [
    "def get_coordinate(row: pd.Series, coordinate: str) -> str:\n",
    "    place_id = f\"{row['state_name']}-{row['place_name']}\"\n",
    "    if np.isnan(row[coordinate]) and place_id in lookup_subset.index:\n",
    "        return lookup_subset.loc[place_id][coordinate]\n",
    "    return row[coordinate]"
   ]
  },
  {
   "cell_type": "code",
   "execution_count": 43,
   "metadata": {},
   "outputs": [],
   "source": [
    "o_data['lat'] = o_data.apply(get_coordinate, args=['lat'], axis=1)\n",
    "o_data['lon'] = o_data.apply(get_coordinate, args=['lon'], axis=1)"
   ]
  },
  {
   "cell_type": "code",
   "execution_count": 44,
   "metadata": {},
   "outputs": [
    {
     "data": {
      "text/html": [
       "<div>\n",
       "<style scoped>\n",
       "    .dataframe tbody tr th:only-of-type {\n",
       "        vertical-align: middle;\n",
       "    }\n",
       "\n",
       "    .dataframe tbody tr th {\n",
       "        vertical-align: top;\n",
       "    }\n",
       "\n",
       "    .dataframe thead th {\n",
       "        text-align: right;\n",
       "    }\n",
       "</style>\n",
       "<table border=\"1\" class=\"dataframe\">\n",
       "  <thead>\n",
       "    <tr style=\"text-align: right;\">\n",
       "      <th></th>\n",
       "      <th>Cardinality</th>\n",
       "      <th>Null</th>\n",
       "      <th>% Null</th>\n",
       "      <th>Non-Null</th>\n",
       "      <th>% Non-Null</th>\n",
       "      <th>Types</th>\n",
       "      <th>Size (mb)</th>\n",
       "    </tr>\n",
       "  </thead>\n",
       "  <tbody>\n",
       "    <tr>\n",
       "      <th>lat</th>\n",
       "      <td>46918</td>\n",
       "      <td>60</td>\n",
       "      <td>0.049</td>\n",
       "      <td>121160</td>\n",
       "      <td>99.951</td>\n",
       "      <td>float64</td>\n",
       "      <td>0.96976</td>\n",
       "    </tr>\n",
       "    <tr>\n",
       "      <th>lon</th>\n",
       "      <td>46942</td>\n",
       "      <td>60</td>\n",
       "      <td>0.049</td>\n",
       "      <td>121160</td>\n",
       "      <td>99.951</td>\n",
       "      <td>float64</td>\n",
       "      <td>0.96976</td>\n",
       "    </tr>\n",
       "  </tbody>\n",
       "</table>\n",
       "</div>"
      ],
      "text/plain": [
       "     Cardinality  Null  % Null  Non-Null  % Non-Null    Types  Size (mb)\n",
       "lat        46918    60   0.049    121160      99.951  float64    0.96976\n",
       "lon        46942    60   0.049    121160      99.951  float64    0.96976"
      ]
     },
     "execution_count": 44,
     "metadata": {},
     "output_type": "execute_result"
    }
   ],
   "source": [
    "describe_df(o_data.columns, o_data).loc[['lat', 'lon']]"
   ]
  },
  {
   "cell_type": "code",
   "execution_count": 45,
   "metadata": {},
   "outputs": [
    {
     "data": {
      "text/plain": [
       "array(['Buenos Aires Costa Atlántica', 'Buenos Aires Interior',\n",
       "       'Catamarca', 'Santa Fe', 'Córdoba', 'Entre Ríos',\n",
       "       'Bs.As. G.B.A. Zona Norte', 'Bs.As. G.B.A. Zona Sur'], dtype=object)"
      ]
     },
     "execution_count": 45,
     "metadata": {},
     "output_type": "execute_result"
    }
   ],
   "source": [
    "o_data[o_data['lat'].isnull()]['state_name'].unique()"
   ]
  },
  {
   "cell_type": "markdown",
   "metadata": {},
   "source": [
    "Gracias al proceso anterior se logró reducir la cantidad de registros nulos a solo 60 ocurrencias!"
   ]
  },
  {
   "cell_type": "markdown",
   "metadata": {},
   "source": [
    "#### Análisis de la variable: rooms"
   ]
  },
  {
   "cell_type": "markdown",
   "metadata": {},
   "source": [
    "La cantidad de ambientes, representada por el campo *rooms*, es crítica para darle contexto al precio de la propiedad. Por ende, se debe hacer el mayor esfuerzo posible para:\n",
    "- recuperar la mayor cantidad de los valores faltantes.\n",
    "- verificar que los valores existentes estén correctos.\n",
    "\n",
    "Las alternativas para completar los valores faltantes son dos:\n",
    "- búsqueda dentro de los valores de la columna **title**.\n",
    "- búsqueda dentro de los valores de la columna **description**.\n",
    "\n",
    "En cuanto al análisis de outliers, las alternativas son:\n",
    "- detectarlos vía comparaciones contra un desvío estándar o estadística similar.\n"
   ]
  },
  {
   "cell_type": "code",
   "execution_count": 46,
   "metadata": {},
   "outputs": [
    {
     "data": {
      "text/plain": [
       "Cardinality         31\n",
       "Null             73830\n",
       "% Null          60.906\n",
       "Non-Null         47390\n",
       "% Non-Null      39.094\n",
       "Types          float64\n",
       "Size (mb)      0.96976\n",
       "Name: rooms, dtype: object"
      ]
     },
     "execution_count": 46,
     "metadata": {},
     "output_type": "execute_result"
    }
   ],
   "source": [
    "describe_df(o_data.columns, o_data).loc['rooms']"
   ]
  },
  {
   "cell_type": "markdown",
   "metadata": {},
   "source": [
    "El DataFrame original tiene casi 61% de valores nulos.\n",
    "\n",
    "P"
   ]
  },
  {
   "cell_type": "code",
   "execution_count": null,
   "metadata": {},
   "outputs": [],
   "source": []
  },
  {
   "cell_type": "markdown",
   "metadata": {},
   "source": [
    "Para el análisis de los *outliers*, resulta ideal comenzar por un histograma para tener una dimensión de la distribución.\n",
    "\n",
    "Se debe tener particular cuidado en explorar la distribución no solo del conjunto entero, sino de los subconjuntos que forman los distintos valores del campo **property_type**."
   ]
  },
  {
   "cell_type": "code",
   "execution_count": 47,
   "metadata": {},
   "outputs": [
    {
     "data": {
      "text/plain": [
       "array(['PH', 'apartment', 'house', 'store'], dtype=object)"
      ]
     },
     "execution_count": 47,
     "metadata": {},
     "output_type": "execute_result"
    }
   ],
   "source": [
    "o_data['property_type'].unique()"
   ]
  },
  {
   "cell_type": "markdown",
   "metadata": {},
   "source": [
    "Para los cuatro valores anteriores se arma un histograma que represente la distribución en cada caso. Además, se arma un quinto histograma para la distribución de la variable en todo el conjunto de datos."
   ]
  },
  {
   "cell_type": "code",
   "execution_count": 48,
   "metadata": {},
   "outputs": [
    {
     "data": {
      "image/png": "[encoded data removed]",
      "text/plain": [
       "<Figure size 1440x720 with 5 Axes>"
      ]
     },
     "metadata": {},
     "output_type": "display_data"
    }
   ],
   "source": [
    "from matplotlib.gridspec import GridSpec\n",
    "\n",
    "property_types = ['PH', 'apartment', 'house', 'store', 'Dummy']\n",
    "colors = [\"#98ce00\",\"#16e0bd\",\"#78c3fb\",\"#89a6fb\",\"#98838f\"]\n",
    "\n",
    "def format_axes(fig):\n",
    "    for idx, ax in enumerate(fig.axes):\n",
    "        if idx == 4:\n",
    "            subset = o_data['rooms']\n",
    "            description = subset.describe()\n",
    "            ax.hist(subset, bins=len(subset.unique()), color=colors[idx], alpha=0.7)\n",
    "            ax.set_title('Todos')\n",
    "        else:\n",
    "            subset = o_data.loc[o_data['property_type'] == property_types[idx]]['rooms']\n",
    "            description = subset.describe()\n",
    "            ax.hist(subset, bins=len(subset.unique()), color=colors[idx], alpha=0.7)\n",
    "            ax.set_title(property_types[idx])\n",
    "        # axis styling.\n",
    "        ax.tick_params(labelbottom=True, labelleft=True)            \n",
    "        ax.set_xlabel(f\"count: {round(description.loc['count'])} - mean: {round(description.loc['mean'],2)} - std: {round(description.loc['std'],2)}\")\n",
    "        ax.axvline(x=description.loc['mean'], color='red')\n",
    "        ax.axvline(x=description.loc['mean'] + (description.loc['std'] * 3), color='red')\n",
    "\n",
    "fig = plt.figure(constrained_layout=True, figsize=(20,10))\n",
    "\n",
    "gs = GridSpec(2, 12, figure=fig)\n",
    "\n",
    "ax1 = fig.add_subplot(gs[0, :3])\n",
    "ax2 = fig.add_subplot(gs[0, 3:6])\n",
    "ax3 = fig.add_subplot(gs[1, :3])\n",
    "ax4 = fig.add_subplot(gs[1, 3:6])\n",
    "ax5 = fig.add_subplot(gs[:, 6:])\n",
    "\n",
    "fig.suptitle(\"Distribución de la variable: rooms\")\n",
    "\n",
    "format_axes(fig)\n",
    "\n",
    "plt.show()"
   ]
  },
  {
   "cell_type": "code",
   "execution_count": 49,
   "metadata": {},
   "outputs": [
    {
     "data": {
      "text/html": [
       "<div>\n",
       "<style scoped>\n",
       "    .dataframe tbody tr th:only-of-type {\n",
       "        vertical-align: middle;\n",
       "    }\n",
       "\n",
       "    .dataframe tbody tr th {\n",
       "        vertical-align: top;\n",
       "    }\n",
       "\n",
       "    .dataframe thead th {\n",
       "        text-align: right;\n",
       "    }\n",
       "</style>\n",
       "<table border=\"1\" class=\"dataframe\">\n",
       "  <thead>\n",
       "    <tr style=\"text-align: right;\">\n",
       "      <th></th>\n",
       "      <th>count</th>\n",
       "      <th>mean</th>\n",
       "      <th>std</th>\n",
       "      <th>min</th>\n",
       "      <th>25%</th>\n",
       "      <th>50%</th>\n",
       "      <th>75%</th>\n",
       "      <th>max</th>\n",
       "    </tr>\n",
       "    <tr>\n",
       "      <th>property_type</th>\n",
       "      <th></th>\n",
       "      <th></th>\n",
       "      <th></th>\n",
       "      <th></th>\n",
       "      <th></th>\n",
       "      <th></th>\n",
       "      <th></th>\n",
       "      <th></th>\n",
       "    </tr>\n",
       "  </thead>\n",
       "  <tbody>\n",
       "    <tr>\n",
       "      <th>PH</th>\n",
       "      <td>3247.0</td>\n",
       "      <td>3.217431</td>\n",
       "      <td>1.239185</td>\n",
       "      <td>1.0</td>\n",
       "      <td>2.0</td>\n",
       "      <td>3.0</td>\n",
       "      <td>4.0</td>\n",
       "      <td>20.0</td>\n",
       "    </tr>\n",
       "    <tr>\n",
       "      <th>apartment</th>\n",
       "      <td>31268.0</td>\n",
       "      <td>2.508667</td>\n",
       "      <td>1.349485</td>\n",
       "      <td>1.0</td>\n",
       "      <td>2.0</td>\n",
       "      <td>2.0</td>\n",
       "      <td>3.0</td>\n",
       "      <td>32.0</td>\n",
       "    </tr>\n",
       "    <tr>\n",
       "      <th>house</th>\n",
       "      <td>12770.0</td>\n",
       "      <td>4.452388</td>\n",
       "      <td>2.295527</td>\n",
       "      <td>1.0</td>\n",
       "      <td>3.0</td>\n",
       "      <td>4.0</td>\n",
       "      <td>5.0</td>\n",
       "      <td>32.0</td>\n",
       "    </tr>\n",
       "    <tr>\n",
       "      <th>store</th>\n",
       "      <td>105.0</td>\n",
       "      <td>2.438095</td>\n",
       "      <td>2.214132</td>\n",
       "      <td>1.0</td>\n",
       "      <td>1.0</td>\n",
       "      <td>1.0</td>\n",
       "      <td>3.0</td>\n",
       "      <td>10.0</td>\n",
       "    </tr>\n",
       "  </tbody>\n",
       "</table>\n",
       "</div>"
      ],
      "text/plain": [
       "                 count      mean       std  min  25%  50%  75%   max\n",
       "property_type                                                       \n",
       "PH              3247.0  3.217431  1.239185  1.0  2.0  3.0  4.0  20.0\n",
       "apartment      31268.0  2.508667  1.349485  1.0  2.0  2.0  3.0  32.0\n",
       "house          12770.0  4.452388  2.295527  1.0  3.0  4.0  5.0  32.0\n",
       "store            105.0  2.438095  2.214132  1.0  1.0  1.0  3.0  10.0"
      ]
     },
     "execution_count": 49,
     "metadata": {},
     "output_type": "execute_result"
    }
   ],
   "source": [
    "o_data[['property_type', 'rooms']].groupby('property_type')['rooms'].describe()"
   ]
  },
  {
   "cell_type": "code",
   "execution_count": 50,
   "metadata": {},
   "outputs": [
    {
     "data": {
      "text/plain": [
       "count    105.000000\n",
       "mean       2.438095\n",
       "std        2.214132\n",
       "min        1.000000\n",
       "25%        1.000000\n",
       "50%        1.000000\n",
       "75%        3.000000\n",
       "max       10.000000\n",
       "Name: rooms, dtype: float64"
      ]
     },
     "execution_count": 50,
     "metadata": {},
     "output_type": "execute_result"
    }
   ],
   "source": [
    "o_data.loc[o_data['property_type'] == 'store']['rooms'].describe()"
   ]
  }
 ],
 "metadata": {
  "kernelspec": {
   "display_name": "Python 3",
   "language": "python",
   "name": "python3"
  },
  "language_info": {
   "codemirror_mode": {
    "name": "ipython",
    "version": 3
   },
   "file_extension": ".py",
   "mimetype": "text/x-python",
   "name": "python",
   "nbconvert_exporter": "python",
   "pygments_lexer": "ipython3",
   "version": "3.7.9"
  }
 },
 "nbformat": 4,
 "nbformat_minor": 4
}
